{
  "nbformat": 4,
  "nbformat_minor": 0,
  "metadata": {
    "colab": {
      "provenance": [],
      "include_colab_link": true
    },
    "kernelspec": {
      "name": "python3",
      "display_name": "Python 3"
    },
    "language_info": {
      "name": "python"
    }
  },
  "cells": [
    {
      "cell_type": "markdown",
      "metadata": {
        "id": "view-in-github",
        "colab_type": "text"
      },
      "source": [
        "<a href=\"https://colab.research.google.com/github/lnmurthy/FindYourStocks/blob/main/FinalProject.ipynb\" target=\"_parent\"><img src=\"https://colab.research.google.com/assets/colab-badge.svg\" alt=\"Open In Colab\"/></a>"
      ]
    },
    {
      "cell_type": "markdown",
      "source": [
        "# Stock Recommendation System Project\n",
        "By Leisha Murthy and Rohan Bhalla\n",
        "\n"
      ],
      "metadata": {
        "id": "UrfZsDek_ULf"
      }
    },
    {
      "cell_type": "markdown",
      "source": [
        "\n",
        "\n",
        "```\n",
        "# This is formatted as code\n",
        "```\n",
        "\n",
        "In this project we make use of a kaggle dataset for which the json file has to be uploaded to the workspace for the code to run. Our goal was to use this dataset which contains information about stock prices and volume traded across several decades to recommend stocks to the user based on stocks that they are already interested in."
      ],
      "metadata": {
        "id": "BJzfhPPp_mi7"
      }
    },
    {
      "cell_type": "markdown",
      "source": [
        "#Problem to solve\n",
        "We want to provide investing beginners with a convinient way of looking up companies(stocks) to invest in based on their interests and preferences. This will take into account industries and performance of the stocks.\n"
      ],
      "metadata": {
        "id": "wUVGykZU-2t6"
      }
    },
    {
      "cell_type": "code",
      "execution_count": null,
      "metadata": {
        "id": "-SHdKB2SdzAr"
      },
      "outputs": [],
      "source": [
        "import pandas as pd\n",
        "import numpy as np\n",
        "import os\n",
        "import glob\n",
        "\n"
      ]
    },
    {
      "cell_type": "markdown",
      "source": [
        "# Setup the workspace\n",
        "The relevant imports are being done and kaggle is being installed so that we can directly download the dataset and get it in our working directory.\n"
      ],
      "metadata": {
        "id": "czEQRPtQAMzF"
      }
    },
    {
      "cell_type": "code",
      "source": [
        "! pip install kaggle\n"
      ],
      "metadata": {
        "id": "JMARw9KZ3Snd"
      },
      "execution_count": null,
      "outputs": []
    },
    {
      "cell_type": "code",
      "source": [
        "! mkdir ~/.kaggle\n"
      ],
      "metadata": {
        "id": "1bEywltf15XG"
      },
      "execution_count": null,
      "outputs": []
    },
    {
      "cell_type": "code",
      "source": [
        "! cp kaggle.json ~/.kaggle/\n"
      ],
      "metadata": {
        "id": "GNuAMQTF3o6c"
      },
      "execution_count": null,
      "outputs": []
    },
    {
      "cell_type": "code",
      "source": [
        "#kaggle api connection code\n",
        "! chmod 600 ~/.kaggle/kaggle.json\n"
      ],
      "metadata": {
        "id": "oh36aba_3rRe"
      },
      "execution_count": null,
      "outputs": []
    },
    {
      "cell_type": "code",
      "source": [
        "! kaggle datasets download paultimothymooney/stock-market-data"
      ],
      "metadata": {
        "id": "kG9kn2ow5yT0"
      },
      "execution_count": null,
      "outputs": []
    },
    {
      "cell_type": "code",
      "source": [
        "! unzip stock-market-data"
      ],
      "metadata": {
        "id": "_4SSzA_86X_X"
      },
      "execution_count": null,
      "outputs": []
    },
    {
      "cell_type": "markdown",
      "source": [
        "# Data Processing and Cleaning\n",
        "The code below uses the unzipped file and sets up the list of dataframes. The correct ticker names have been obtained using the names of the files being used.\n",
        "\n",
        "The dataset being used, by itself doesn't have the most amount of value, hence the ticker name and industry of the stock field have been added by us using the technique of extracting file name and inserting it in the column. Then we use this column along with the Yahoo Finance API to get further relevant data and populate the industry field for all the stocks.\n"
      ],
      "metadata": {
        "id": "tPRIg2Ar5zlP"
      }
    },
    {
      "cell_type": "code",
      "source": [
        "path = \"/content/stock_market_data/sp500/csv/\"\n",
        "all_files = glob.glob(path + \"/*.csv\")\n",
        "all_names = os.listdir(path)\n",
        "all_names.sort()\n",
        "# print(all_names)\n",
        "filelist = []\n",
        "#access all files\n",
        "counter = 0\n",
        "for filename in all_files:\n",
        "  df = pd.read_csv(filename,index_col=None, header=0)\n",
        "  df = df.drop(['Low','Open','High','Adjusted Close'],axis=1)\n",
        "  #Remove .csv suffix\n",
        "  halfName = filename.rstrip(\".csv\")\n",
        "  testName = halfName.lstrip(\"/content/stock_market_data/sp500/csv\")\n",
        "  # all_names[counter] = all_names[counter].rstrip(\".csv\")\n",
        "  df.insert(0,'Ticker',testName)\n",
        "\n",
        "\n",
        "  counter+=1\n",
        "  #filter dates from 2012-2022\n",
        "  df['Date'] = pd.to_datetime(df['Date'], format='%d-%m-%Y')\n",
        "  mask = (df['Date'].dt.year > 2011) & (df['Date'].dt.year <= 2022)\n",
        "  filtered_df = df.loc[mask]\n",
        "  filelist.append(filtered_df)\n",
        "filelist[1].head()\n",
        "\n"
      ],
      "metadata": {
        "colab": {
          "base_uri": "https://localhost:8080/",
          "height": 206
        },
        "id": "YFHvrw6t7MZC",
        "outputId": "b735b192-06a4-4873-afbe-372d0fe379ad"
      },
      "execution_count": null,
      "outputs": [
        {
          "output_type": "execute_result",
          "data": {
            "text/plain": [
              "     Ticker       Date  Volume      Close\n",
              "5694    IEX 2012-01-03  334600  37.299999\n",
              "5695    IEX 2012-01-04  218300  37.410000\n",
              "5696    IEX 2012-01-05  409700  38.090000\n",
              "5697    IEX 2012-01-06  378400  38.000000\n",
              "5698    IEX 2012-01-09  301100  38.090000"
            ],
            "text/html": [
              "\n",
              "  <div id=\"df-1d15f526-aff7-49a8-b068-be7b3e52ec70\">\n",
              "    <div class=\"colab-df-container\">\n",
              "      <div>\n",
              "<style scoped>\n",
              "    .dataframe tbody tr th:only-of-type {\n",
              "        vertical-align: middle;\n",
              "    }\n",
              "\n",
              "    .dataframe tbody tr th {\n",
              "        vertical-align: top;\n",
              "    }\n",
              "\n",
              "    .dataframe thead th {\n",
              "        text-align: right;\n",
              "    }\n",
              "</style>\n",
              "<table border=\"1\" class=\"dataframe\">\n",
              "  <thead>\n",
              "    <tr style=\"text-align: right;\">\n",
              "      <th></th>\n",
              "      <th>Ticker</th>\n",
              "      <th>Date</th>\n",
              "      <th>Volume</th>\n",
              "      <th>Close</th>\n",
              "    </tr>\n",
              "  </thead>\n",
              "  <tbody>\n",
              "    <tr>\n",
              "      <th>5694</th>\n",
              "      <td>IEX</td>\n",
              "      <td>2012-01-03</td>\n",
              "      <td>334600</td>\n",
              "      <td>37.299999</td>\n",
              "    </tr>\n",
              "    <tr>\n",
              "      <th>5695</th>\n",
              "      <td>IEX</td>\n",
              "      <td>2012-01-04</td>\n",
              "      <td>218300</td>\n",
              "      <td>37.410000</td>\n",
              "    </tr>\n",
              "    <tr>\n",
              "      <th>5696</th>\n",
              "      <td>IEX</td>\n",
              "      <td>2012-01-05</td>\n",
              "      <td>409700</td>\n",
              "      <td>38.090000</td>\n",
              "    </tr>\n",
              "    <tr>\n",
              "      <th>5697</th>\n",
              "      <td>IEX</td>\n",
              "      <td>2012-01-06</td>\n",
              "      <td>378400</td>\n",
              "      <td>38.000000</td>\n",
              "    </tr>\n",
              "    <tr>\n",
              "      <th>5698</th>\n",
              "      <td>IEX</td>\n",
              "      <td>2012-01-09</td>\n",
              "      <td>301100</td>\n",
              "      <td>38.090000</td>\n",
              "    </tr>\n",
              "  </tbody>\n",
              "</table>\n",
              "</div>\n",
              "      <button class=\"colab-df-convert\" onclick=\"convertToInteractive('df-1d15f526-aff7-49a8-b068-be7b3e52ec70')\"\n",
              "              title=\"Convert this dataframe to an interactive table.\"\n",
              "              style=\"display:none;\">\n",
              "        \n",
              "  <svg xmlns=\"http://www.w3.org/2000/svg\" height=\"24px\"viewBox=\"0 0 24 24\"\n",
              "       width=\"24px\">\n",
              "    <path d=\"M0 0h24v24H0V0z\" fill=\"none\"/>\n",
              "    <path d=\"M18.56 5.44l.94 2.06.94-2.06 2.06-.94-2.06-.94-.94-2.06-.94 2.06-2.06.94zm-11 1L8.5 8.5l.94-2.06 2.06-.94-2.06-.94L8.5 2.5l-.94 2.06-2.06.94zm10 10l.94 2.06.94-2.06 2.06-.94-2.06-.94-.94-2.06-.94 2.06-2.06.94z\"/><path d=\"M17.41 7.96l-1.37-1.37c-.4-.4-.92-.59-1.43-.59-.52 0-1.04.2-1.43.59L10.3 9.45l-7.72 7.72c-.78.78-.78 2.05 0 2.83L4 21.41c.39.39.9.59 1.41.59.51 0 1.02-.2 1.41-.59l7.78-7.78 2.81-2.81c.8-.78.8-2.07 0-2.86zM5.41 20L4 18.59l7.72-7.72 1.47 1.35L5.41 20z\"/>\n",
              "  </svg>\n",
              "      </button>\n",
              "      \n",
              "  <style>\n",
              "    .colab-df-container {\n",
              "      display:flex;\n",
              "      flex-wrap:wrap;\n",
              "      gap: 12px;\n",
              "    }\n",
              "\n",
              "    .colab-df-convert {\n",
              "      background-color: #E8F0FE;\n",
              "      border: none;\n",
              "      border-radius: 50%;\n",
              "      cursor: pointer;\n",
              "      display: none;\n",
              "      fill: #1967D2;\n",
              "      height: 32px;\n",
              "      padding: 0 0 0 0;\n",
              "      width: 32px;\n",
              "    }\n",
              "\n",
              "    .colab-df-convert:hover {\n",
              "      background-color: #E2EBFA;\n",
              "      box-shadow: 0px 1px 2px rgba(60, 64, 67, 0.3), 0px 1px 3px 1px rgba(60, 64, 67, 0.15);\n",
              "      fill: #174EA6;\n",
              "    }\n",
              "\n",
              "    [theme=dark] .colab-df-convert {\n",
              "      background-color: #3B4455;\n",
              "      fill: #D2E3FC;\n",
              "    }\n",
              "\n",
              "    [theme=dark] .colab-df-convert:hover {\n",
              "      background-color: #434B5C;\n",
              "      box-shadow: 0px 1px 3px 1px rgba(0, 0, 0, 0.15);\n",
              "      filter: drop-shadow(0px 1px 2px rgba(0, 0, 0, 0.3));\n",
              "      fill: #FFFFFF;\n",
              "    }\n",
              "  </style>\n",
              "\n",
              "      <script>\n",
              "        const buttonEl =\n",
              "          document.querySelector('#df-1d15f526-aff7-49a8-b068-be7b3e52ec70 button.colab-df-convert');\n",
              "        buttonEl.style.display =\n",
              "          google.colab.kernel.accessAllowed ? 'block' : 'none';\n",
              "\n",
              "        async function convertToInteractive(key) {\n",
              "          const element = document.querySelector('#df-1d15f526-aff7-49a8-b068-be7b3e52ec70');\n",
              "          const dataTable =\n",
              "            await google.colab.kernel.invokeFunction('convertToInteractive',\n",
              "                                                     [key], {});\n",
              "          if (!dataTable) return;\n",
              "\n",
              "          const docLinkHtml = 'Like what you see? Visit the ' +\n",
              "            '<a target=\"_blank\" href=https://colab.research.google.com/notebooks/data_table.ipynb>data table notebook</a>'\n",
              "            + ' to learn more about interactive tables.';\n",
              "          element.innerHTML = '';\n",
              "          dataTable['output_type'] = 'display_data';\n",
              "          await google.colab.output.renderOutput(dataTable, element);\n",
              "          const docLink = document.createElement('div');\n",
              "          docLink.innerHTML = docLinkHtml;\n",
              "          element.appendChild(docLink);\n",
              "        }\n",
              "      </script>\n",
              "    </div>\n",
              "  </div>\n",
              "  "
            ]
          },
          "metadata": {},
          "execution_count": 8
        }
      ]
    },
    {
      "cell_type": "markdown",
      "source": [
        "#Data Set Description\n",
        "The Dataset has been obtained from Kaggle and it contains information for all major stock indices.\n",
        "\n",
        "\n",
        "We selectively focus on the S&P 500 which contains 409 csv files. First all the data from these files has been extracted and placed into a single dataset which contains: 7673 rows.   \n",
        "\n",
        "\n",
        "From the initial data exploration we learned that a few pieces of important data are missing. The name of the stocks/tickers was not present as a column and there was no other information about the stock apart from their close prices, dates and volume traded. Having so many rows in the dataset itself didn't yield any useful information for us but rather a more concise and organized representation was needed and this led us to deciding on the features of the dataset.\n",
        "\n",
        "In our intial planning we aimed to have a list of dataframes setup for every stock in the S&P 500. For every stock we would add the ticker name to its dataframe and also restrict the year we are looking at to a much smaller and workable amount.\n",
        "\n",
        "The features of relevance to us our the closing prices for a set of dates for every stock, the stock name, the volume of stock traded on the given day. These fields help in calculating the trends of stocks (percent changes) and also potentially we could look at the volume to understand the popularity if additional classification information is needed.  \n"
      ],
      "metadata": {
        "id": "8BiNLNo0Csk4"
      }
    },
    {
      "cell_type": "markdown",
      "source": [],
      "metadata": {
        "id": "itcCtmGbNUBC"
      }
    },
    {
      "cell_type": "markdown",
      "source": [],
      "metadata": {
        "id": "8DkYSe1vNaH6"
      }
    },
    {
      "cell_type": "code",
      "source": [
        "#Number of files to work with\n",
        "print(\"Number of files: \"+str(len(all_files)))\n",
        "#Number of rows in each dataframe\n",
        "print(\"Number of Rows in the dataframe: \"+str(len(df.index)))\n"
      ],
      "metadata": {
        "colab": {
          "base_uri": "https://localhost:8080/"
        },
        "id": "vcGSdSBSEAQC",
        "outputId": "21a21873-bb8c-4e85-e9f0-506e0b6035bb"
      },
      "execution_count": null,
      "outputs": [
        {
          "output_type": "stream",
          "name": "stdout",
          "text": [
            "Number of files: 409\n",
            "Number of Rows in a file: 7673\n"
          ]
        }
      ]
    },
    {
      "cell_type": "code",
      "source": [
        "#Compute 1, 5, 10 year averages of volume and price\n",
        "\n",
        "#take 2012-2022, take volume column, add all volume and divide by number of years (1 year - 2022) (2017-2022) (2012-2022)\n",
        "latest_year = df['Date'].dt.year.max()\n",
        "num_years = 0\n",
        "earliest_year = latest_year - num_years\n",
        "mask = (df['Date'].dt.year >= earliest_year) & (df['Date'].dt.year <= latest_year)\n",
        "filtered_df = df.loc[mask]\n",
        "# print(filtered_df)\n",
        "avg_volume = filtered_df['Volume'].mean()\n",
        "# print('the average volume is', avg_volume)\n",
        "\n",
        "#Percentage change testing\n",
        "filtered_df.iloc[-1]\n",
        "filtered_df.iloc[0]\n"
      ],
      "metadata": {
        "colab": {
          "base_uri": "https://localhost:8080/"
        },
        "id": "fiDS7D5ZTJtJ",
        "outputId": "3c9116cf-b09f-4a82-fd10-30fcd5aeaeb7"
      },
      "execution_count": null,
      "outputs": [
        {
          "output_type": "execute_result",
          "data": {
            "text/plain": [
              "Ticker                   SBUX\n",
              "Date      2022-01-03 00:00:00\n",
              "Volume                5475700\n",
              "Close                  116.68\n",
              "Name: 7435, dtype: object"
            ]
          },
          "metadata": {},
          "execution_count": 9
        }
      ]
    },
    {
      "cell_type": "markdown",
      "source": [
        "The code below has to be run once to get the industry information for all the tickers. This is done using Yahoo finance API. For the tickers on which the lookup doesn't work the column value is set to \"NOT FOUND\"."
      ],
      "metadata": {
        "id": "JMb59I0v5b5S"
      }
    },
    {
      "cell_type": "code",
      "source": [
        "#Getting industry information for the tickers\n",
        "import yfinance as yf\n",
        "count = 0\n",
        "#NOTE:       UNCOMMENT THE LOOP BELOW AND RUN ONCE TO GET INDUSTRY INFO\n",
        "for filename in all_files:\n",
        "  # print(all_names[count])\n",
        "  ticker = filelist[count].iloc[0][\"Ticker\"]\n",
        "  tickerdata = yf.Ticker(ticker)\n",
        "  sectordata = \"NOT FOUND\"\n",
        "  try:\n",
        "    sectordata = tickerdata.info['sector']\n",
        "    filelist[count].insert(1,'Industry',sectordata)\n",
        "  except:\n",
        "    sectordata = \"NOT FOUND\"\n",
        "    filelist[count].insert(1,'Industry',sectordata)\n",
        "  count += 1\n",
        "len(filelist)\n"
      ],
      "metadata": {
        "id": "ECQjl3Os4uLs",
        "colab": {
          "base_uri": "https://localhost:8080/"
        },
        "outputId": "3066cb8a-4ae8-40fb-cee8-080605844fd6"
      },
      "execution_count": null,
      "outputs": [
        {
          "output_type": "execute_result",
          "data": {
            "text/plain": [
              "409"
            ]
          },
          "metadata": {},
          "execution_count": 10
        }
      ]
    },
    {
      "cell_type": "code",
      "source": [
        "# Dropping code for removing industry column\n",
        "filelist[0].head()"
      ],
      "metadata": {
        "colab": {
          "base_uri": "https://localhost:8080/",
          "height": 206
        },
        "id": "btjkuMewGvfM",
        "outputId": "278e2a7c-5cfd-4f92-ce4e-7e75280a25a0"
      },
      "execution_count": null,
      "outputs": [
        {
          "output_type": "execute_result",
          "data": {
            "text/plain": [
              "     Ticker Industry       Date   Volume      Close\n",
              "7885    OKE   Energy 2012-01-03  2066925  38.268253\n",
              "7886    OKE   Energy 2012-01-04  1709873  38.237614\n",
              "7887    OKE   Energy 2012-01-05  1553849  38.277008\n",
              "7888    OKE   Energy 2012-01-06  1164816  38.176327\n",
              "7889    OKE   Energy 2012-01-09  1414500  37.979340"
            ],
            "text/html": [
              "\n",
              "  <div id=\"df-1ea61f70-5f21-49a5-adaa-efdb383b6c69\">\n",
              "    <div class=\"colab-df-container\">\n",
              "      <div>\n",
              "<style scoped>\n",
              "    .dataframe tbody tr th:only-of-type {\n",
              "        vertical-align: middle;\n",
              "    }\n",
              "\n",
              "    .dataframe tbody tr th {\n",
              "        vertical-align: top;\n",
              "    }\n",
              "\n",
              "    .dataframe thead th {\n",
              "        text-align: right;\n",
              "    }\n",
              "</style>\n",
              "<table border=\"1\" class=\"dataframe\">\n",
              "  <thead>\n",
              "    <tr style=\"text-align: right;\">\n",
              "      <th></th>\n",
              "      <th>Ticker</th>\n",
              "      <th>Industry</th>\n",
              "      <th>Date</th>\n",
              "      <th>Volume</th>\n",
              "      <th>Close</th>\n",
              "    </tr>\n",
              "  </thead>\n",
              "  <tbody>\n",
              "    <tr>\n",
              "      <th>7885</th>\n",
              "      <td>OKE</td>\n",
              "      <td>Energy</td>\n",
              "      <td>2012-01-03</td>\n",
              "      <td>2066925</td>\n",
              "      <td>38.268253</td>\n",
              "    </tr>\n",
              "    <tr>\n",
              "      <th>7886</th>\n",
              "      <td>OKE</td>\n",
              "      <td>Energy</td>\n",
              "      <td>2012-01-04</td>\n",
              "      <td>1709873</td>\n",
              "      <td>38.237614</td>\n",
              "    </tr>\n",
              "    <tr>\n",
              "      <th>7887</th>\n",
              "      <td>OKE</td>\n",
              "      <td>Energy</td>\n",
              "      <td>2012-01-05</td>\n",
              "      <td>1553849</td>\n",
              "      <td>38.277008</td>\n",
              "    </tr>\n",
              "    <tr>\n",
              "      <th>7888</th>\n",
              "      <td>OKE</td>\n",
              "      <td>Energy</td>\n",
              "      <td>2012-01-06</td>\n",
              "      <td>1164816</td>\n",
              "      <td>38.176327</td>\n",
              "    </tr>\n",
              "    <tr>\n",
              "      <th>7889</th>\n",
              "      <td>OKE</td>\n",
              "      <td>Energy</td>\n",
              "      <td>2012-01-09</td>\n",
              "      <td>1414500</td>\n",
              "      <td>37.979340</td>\n",
              "    </tr>\n",
              "  </tbody>\n",
              "</table>\n",
              "</div>\n",
              "      <button class=\"colab-df-convert\" onclick=\"convertToInteractive('df-1ea61f70-5f21-49a5-adaa-efdb383b6c69')\"\n",
              "              title=\"Convert this dataframe to an interactive table.\"\n",
              "              style=\"display:none;\">\n",
              "        \n",
              "  <svg xmlns=\"http://www.w3.org/2000/svg\" height=\"24px\"viewBox=\"0 0 24 24\"\n",
              "       width=\"24px\">\n",
              "    <path d=\"M0 0h24v24H0V0z\" fill=\"none\"/>\n",
              "    <path d=\"M18.56 5.44l.94 2.06.94-2.06 2.06-.94-2.06-.94-.94-2.06-.94 2.06-2.06.94zm-11 1L8.5 8.5l.94-2.06 2.06-.94-2.06-.94L8.5 2.5l-.94 2.06-2.06.94zm10 10l.94 2.06.94-2.06 2.06-.94-2.06-.94-.94-2.06-.94 2.06-2.06.94z\"/><path d=\"M17.41 7.96l-1.37-1.37c-.4-.4-.92-.59-1.43-.59-.52 0-1.04.2-1.43.59L10.3 9.45l-7.72 7.72c-.78.78-.78 2.05 0 2.83L4 21.41c.39.39.9.59 1.41.59.51 0 1.02-.2 1.41-.59l7.78-7.78 2.81-2.81c.8-.78.8-2.07 0-2.86zM5.41 20L4 18.59l7.72-7.72 1.47 1.35L5.41 20z\"/>\n",
              "  </svg>\n",
              "      </button>\n",
              "      \n",
              "  <style>\n",
              "    .colab-df-container {\n",
              "      display:flex;\n",
              "      flex-wrap:wrap;\n",
              "      gap: 12px;\n",
              "    }\n",
              "\n",
              "    .colab-df-convert {\n",
              "      background-color: #E8F0FE;\n",
              "      border: none;\n",
              "      border-radius: 50%;\n",
              "      cursor: pointer;\n",
              "      display: none;\n",
              "      fill: #1967D2;\n",
              "      height: 32px;\n",
              "      padding: 0 0 0 0;\n",
              "      width: 32px;\n",
              "    }\n",
              "\n",
              "    .colab-df-convert:hover {\n",
              "      background-color: #E2EBFA;\n",
              "      box-shadow: 0px 1px 2px rgba(60, 64, 67, 0.3), 0px 1px 3px 1px rgba(60, 64, 67, 0.15);\n",
              "      fill: #174EA6;\n",
              "    }\n",
              "\n",
              "    [theme=dark] .colab-df-convert {\n",
              "      background-color: #3B4455;\n",
              "      fill: #D2E3FC;\n",
              "    }\n",
              "\n",
              "    [theme=dark] .colab-df-convert:hover {\n",
              "      background-color: #434B5C;\n",
              "      box-shadow: 0px 1px 3px 1px rgba(0, 0, 0, 0.15);\n",
              "      filter: drop-shadow(0px 1px 2px rgba(0, 0, 0, 0.3));\n",
              "      fill: #FFFFFF;\n",
              "    }\n",
              "  </style>\n",
              "\n",
              "      <script>\n",
              "        const buttonEl =\n",
              "          document.querySelector('#df-1ea61f70-5f21-49a5-adaa-efdb383b6c69 button.colab-df-convert');\n",
              "        buttonEl.style.display =\n",
              "          google.colab.kernel.accessAllowed ? 'block' : 'none';\n",
              "\n",
              "        async function convertToInteractive(key) {\n",
              "          const element = document.querySelector('#df-1ea61f70-5f21-49a5-adaa-efdb383b6c69');\n",
              "          const dataTable =\n",
              "            await google.colab.kernel.invokeFunction('convertToInteractive',\n",
              "                                                     [key], {});\n",
              "          if (!dataTable) return;\n",
              "\n",
              "          const docLinkHtml = 'Like what you see? Visit the ' +\n",
              "            '<a target=\"_blank\" href=https://colab.research.google.com/notebooks/data_table.ipynb>data table notebook</a>'\n",
              "            + ' to learn more about interactive tables.';\n",
              "          element.innerHTML = '';\n",
              "          dataTable['output_type'] = 'display_data';\n",
              "          await google.colab.output.renderOutput(dataTable, element);\n",
              "          const docLink = document.createElement('div');\n",
              "          docLink.innerHTML = docLinkHtml;\n",
              "          element.appendChild(docLink);\n",
              "        }\n",
              "      </script>\n",
              "    </div>\n",
              "  </div>\n",
              "  "
            ]
          },
          "metadata": {},
          "execution_count": 11
        }
      ]
    },
    {
      "cell_type": "markdown",
      "source": [
        "We wanted to set up another field for all the stocks to show their \"beta values\" which would help us in classifying the stocks based on how volatile they are and better match it with the risk level that the user is willing to take. However, the API doesn't offer this information even though their site does have this field posted. Therefore, this value is not being used in this recommendation as apart from scraping their is no way of extracting it."
      ],
      "metadata": {
        "id": "f0jc5NGoBS8m"
      }
    },
    {
      "cell_type": "code",
      "source": [
        "#FAILED ATTEMPT AT GETTING BETA values\n",
        "import yfinance as yf\n",
        "\n",
        "#Adding beta values from yfinance api --> not working yet\n",
        "#might have to self calculate using standard formula and data across certain time period\n",
        "count = 0\n",
        "# yf.Ticker(all_names[count])\n",
        "# tickerdata = yf.Ticker('goog')\n",
        "# sectordata = tickerdata.info['sector']\n",
        "# tickerdata.get_analysis()\n",
        "tsla = yf.Ticker('TSLA')\n",
        "analysis = tsla.get_rev_forecast\n",
        "print(analysis)\n",
        "\n",
        "print(all_names[2])\n",
        "# for filename in all_files:\n",
        "#   print(all_names[count])\n",
        "#   tickerdata = yf.Ticker(all_names[count])\n",
        "#   sectordata = \"NOT FOUND\"\n",
        "#   try:\n",
        "#     sectordata = tickerdata.info['sector']\n",
        "#   except:\n",
        "#     sectordata = \"NOT FOUND\"\n",
        "#   df.insert(1,'Industry',sectordata)\n",
        "#   filelist[count].insert(1,'Industry',sectordata)\n",
        "#   count += 1"
      ],
      "metadata": {
        "colab": {
          "base_uri": "https://localhost:8080/"
        },
        "id": "VvlP2CELMD9d",
        "outputId": "045fe9bb-c370-4a2a-acf2-e5772f3f16b0"
      },
      "execution_count": null,
      "outputs": [
        {
          "output_type": "stream",
          "name": "stdout",
          "text": [
            "<bound method TickerBase.get_rev_forecast of yfinance.Ticker object <TSLA>>\n",
            "AAP.csv\n"
          ]
        }
      ]
    },
    {
      "cell_type": "code",
      "source": [
        "#Collect list of all industry types (unique ones only)\n",
        "industries = []\n",
        "index = 0\n",
        "\n",
        "for filename in all_files:\n",
        "  industries.append(filelist[index].iloc[0][\"Industry\"])\n",
        "  # print(filelist[index].iloc[0][\"Industry\"])\n",
        "  index +=1\n",
        "len(industries)\n",
        "#Only keep unique industries out of 409 values\n",
        "industrySet = set(industries)\n",
        "\n",
        "#This is the variable we will use for list of industries (unique values only)\n",
        "industryList = list(industrySet)\n",
        "for item in industryList:\n",
        "  print(item)\n",
        "# len(industryList) # 12 options"
      ],
      "metadata": {
        "colab": {
          "base_uri": "https://localhost:8080/"
        },
        "id": "jlrHw441GyF9",
        "outputId": "8e76deba-b770-4be4-b55f-bad386a6ef1c"
      },
      "execution_count": null,
      "outputs": [
        {
          "output_type": "stream",
          "name": "stdout",
          "text": [
            "Financial Services\n",
            "Technology\n",
            "Consumer Cyclical\n",
            "Healthcare\n",
            "Industrials\n",
            "Energy\n",
            "Utilities\n",
            "Basic Materials\n",
            "Communication Services\n",
            "NOT FOUND\n",
            "Real Estate\n",
            "Consumer Defensive\n"
          ]
        }
      ]
    },
    {
      "cell_type": "markdown",
      "source": [
        "# User Input and Profile Generation\n",
        "Asking the user to enter three stock tickers. This is stored in a list and using this the stock information rows are looked up in the central dataframe (onYearDF). This is used in the two similarity finding recommendation techniques being applied in this project."
      ],
      "metadata": {
        "id": "Drzp2y_0TCQr"
      }
    },
    {
      "cell_type": "code",
      "source": [
        "#Get user to input 3 tickers\n",
        "userTickers = []\n",
        "for i in range (3):\n",
        "  inputTicker = str(input(\"Enter Ticker: \"))\n",
        "  userTickers.append(inputTicker)"
      ],
      "metadata": {
        "id": "weh5jaSwZ3fD",
        "colab": {
          "base_uri": "https://localhost:8080/"
        },
        "outputId": "fa0f4355-95dd-4e34-a850-2405d6a0843a"
      },
      "execution_count": null,
      "outputs": [
        {
          "name": "stdout",
          "output_type": "stream",
          "text": [
            "Enter Ticker: A\n",
            "Enter Ticker: AAPL\n",
            "Enter Ticker: GOOG\n"
          ]
        }
      ]
    },
    {
      "cell_type": "markdown",
      "source": [
        "When exploring options for our content based recommendation system, we wanted to utilize TF-IDF as a first step. We decided against this method as every value in our dataset was unique and did not have term frequency."
      ],
      "metadata": {
        "id": "fFXXBqnlW0i0"
      }
    },
    {
      "cell_type": "code",
      "source": [
        "from sklearn.feature_extraction.text import TfidfVectorizer\n",
        "from sklearn.metrics.pairwise import linear_kernel\n",
        "#TFIDF IS NOT NEEDED FOR OUR CASE\n",
        "\n",
        "\n",
        "tfidf = TfidfVectorizer(stop_words=\"english\")\n",
        "#filtered_df[\"Industry\"] = filtered_df[\"Industry\"].fill(\"na\")\n",
        "# tfid_matrix = tfidf.fit_transform(filtered_df[\"Industry\"])\n",
        "# cosine_sim = linear_kernel(tfidf_matrix,tfidf_matrix)\n",
        "# indices = pd.Series(filtered_df.index,index=df_movies['Industry']).drop_duplicates()"
      ],
      "metadata": {
        "id": "VF2r_y4W90AY"
      },
      "execution_count": null,
      "outputs": []
    },
    {
      "cell_type": "markdown",
      "source": [
        "Here we create a combined dataframe of all the tickers with their industry, one-year average price, and percentage change values. The code begins by initializing an empty dataframe, oneYearDF, with four columns - 'TickerName', 'Industry', 'OneYearAvg', and '%Change'.\n",
        "\n",
        "Then, for each file in the filelist, the code extracts the ticker name, industry, and the filtered dataframe for the latest year using the Pandas library. The filtered dataframe is created by setting a mask that extracts data from the earliest year (which is set to the latest year minus 0) to the latest year.\n",
        "\n",
        "The code then calculates the end price and start price of the filtered dataframe and computes the percentage change between them. Finally, the one-year average price is calculated and appended to the oneYearDF dataframe with the corresponding ticker name, industry, one-year average price, and percentage change values using the Pandas DataFrame's append method.\n",
        "\n",
        "The index variable is used to keep track of the current iteration in the for-loop, and it is incremented by 1 after each iteration. The code outputs the length of the oneYearDF dataframe after all iterations are complete."
      ],
      "metadata": {
        "id": "eL4XdxsfYcWX"
      }
    },
    {
      "cell_type": "code",
      "source": [
        "#Create combined dataframe of all tickers with their:\n",
        "# industry,\n",
        "\n",
        "index = 0\n",
        "oneYearDF = pd.DataFrame(columns = ['TickerName', 'Industry', 'OneYearAvg', '%Change'])\n",
        "\n",
        "for file in filelist:\n",
        "  # industries.append(filelist[index].iloc[0][\"Industry\"])\n",
        "  tickerName = filelist[index].iloc[0][\"Ticker\"]\n",
        "  industry = filelist[index].iloc[0][\"Industry\"]\n",
        "  # print(tickerName)\n",
        "  #Avg calculation\n",
        "  latest_year = filelist[index]['Date'].dt.year.max()\n",
        "  earliest_year = latest_year - 0\n",
        "\n",
        "  mask = (filelist[index]['Date'].dt.year >= earliest_year) & (filelist[index]['Date'].dt.year <= latest_year)\n",
        "  filtered_df = filelist[index].loc[mask]\n",
        "  # print(filtered_df.iloc[-1])\n",
        "\n",
        "  #Get first and last row in the corresponding years\n",
        "  endPrice = filtered_df.iloc[-1]['Close']\n",
        "  startPrice = filtered_df.iloc[0]['Close']\n",
        "\n",
        "  #Compute % change\n",
        "  percentageChange = ((endPrice - startPrice)/startPrice) * 100\n",
        "  oneYearAvg = filtered_df['Close'].mean()\n",
        "  # print(oneYearAvg)\n",
        "  oneYearDF = oneYearDF.append({'TickerName': tickerName, 'Industry':industry, 'OneYearAvg':oneYearAvg, '%Change':percentageChange}, ignore_index=True)\n",
        "  index += 1\n",
        "# len(oneYearDF)\n"
      ],
      "metadata": {
        "id": "UzbFZsz195oR"
      },
      "execution_count": null,
      "outputs": []
    },
    {
      "cell_type": "code",
      "source": [
        "oneYearDF.tail()"
      ],
      "metadata": {
        "id": "np5jMiropyyW",
        "colab": {
          "base_uri": "https://localhost:8080/",
          "height": 206
        },
        "outputId": "8428f292-1f86-4192-bbc8-4b1e17d73d34"
      },
      "execution_count": null,
      "outputs": [
        {
          "output_type": "execute_result",
          "data": {
            "text/plain": [
              "    TickerName           Industry  OneYearAvg    %Change\n",
              "404         LH         Healthcare  247.630441 -23.433832\n",
              "405        ZBH         Healthcare  115.603039  -0.142725\n",
              "406        EMR        Industrials   88.512059   3.476455\n",
              "407        CAH         Healthcare   61.597521  50.740250\n",
              "408       SBUX  Consumer Cyclical   86.989605 -12.610648"
            ],
            "text/html": [
              "\n",
              "  <div id=\"df-e75a6d0d-4fb5-4828-aab8-57a155211aca\">\n",
              "    <div class=\"colab-df-container\">\n",
              "      <div>\n",
              "<style scoped>\n",
              "    .dataframe tbody tr th:only-of-type {\n",
              "        vertical-align: middle;\n",
              "    }\n",
              "\n",
              "    .dataframe tbody tr th {\n",
              "        vertical-align: top;\n",
              "    }\n",
              "\n",
              "    .dataframe thead th {\n",
              "        text-align: right;\n",
              "    }\n",
              "</style>\n",
              "<table border=\"1\" class=\"dataframe\">\n",
              "  <thead>\n",
              "    <tr style=\"text-align: right;\">\n",
              "      <th></th>\n",
              "      <th>TickerName</th>\n",
              "      <th>Industry</th>\n",
              "      <th>OneYearAvg</th>\n",
              "      <th>%Change</th>\n",
              "    </tr>\n",
              "  </thead>\n",
              "  <tbody>\n",
              "    <tr>\n",
              "      <th>404</th>\n",
              "      <td>LH</td>\n",
              "      <td>Healthcare</td>\n",
              "      <td>247.630441</td>\n",
              "      <td>-23.433832</td>\n",
              "    </tr>\n",
              "    <tr>\n",
              "      <th>405</th>\n",
              "      <td>ZBH</td>\n",
              "      <td>Healthcare</td>\n",
              "      <td>115.603039</td>\n",
              "      <td>-0.142725</td>\n",
              "    </tr>\n",
              "    <tr>\n",
              "      <th>406</th>\n",
              "      <td>EMR</td>\n",
              "      <td>Industrials</td>\n",
              "      <td>88.512059</td>\n",
              "      <td>3.476455</td>\n",
              "    </tr>\n",
              "    <tr>\n",
              "      <th>407</th>\n",
              "      <td>CAH</td>\n",
              "      <td>Healthcare</td>\n",
              "      <td>61.597521</td>\n",
              "      <td>50.740250</td>\n",
              "    </tr>\n",
              "    <tr>\n",
              "      <th>408</th>\n",
              "      <td>SBUX</td>\n",
              "      <td>Consumer Cyclical</td>\n",
              "      <td>86.989605</td>\n",
              "      <td>-12.610648</td>\n",
              "    </tr>\n",
              "  </tbody>\n",
              "</table>\n",
              "</div>\n",
              "      <button class=\"colab-df-convert\" onclick=\"convertToInteractive('df-e75a6d0d-4fb5-4828-aab8-57a155211aca')\"\n",
              "              title=\"Convert this dataframe to an interactive table.\"\n",
              "              style=\"display:none;\">\n",
              "        \n",
              "  <svg xmlns=\"http://www.w3.org/2000/svg\" height=\"24px\"viewBox=\"0 0 24 24\"\n",
              "       width=\"24px\">\n",
              "    <path d=\"M0 0h24v24H0V0z\" fill=\"none\"/>\n",
              "    <path d=\"M18.56 5.44l.94 2.06.94-2.06 2.06-.94-2.06-.94-.94-2.06-.94 2.06-2.06.94zm-11 1L8.5 8.5l.94-2.06 2.06-.94-2.06-.94L8.5 2.5l-.94 2.06-2.06.94zm10 10l.94 2.06.94-2.06 2.06-.94-2.06-.94-.94-2.06-.94 2.06-2.06.94z\"/><path d=\"M17.41 7.96l-1.37-1.37c-.4-.4-.92-.59-1.43-.59-.52 0-1.04.2-1.43.59L10.3 9.45l-7.72 7.72c-.78.78-.78 2.05 0 2.83L4 21.41c.39.39.9.59 1.41.59.51 0 1.02-.2 1.41-.59l7.78-7.78 2.81-2.81c.8-.78.8-2.07 0-2.86zM5.41 20L4 18.59l7.72-7.72 1.47 1.35L5.41 20z\"/>\n",
              "  </svg>\n",
              "      </button>\n",
              "      \n",
              "  <style>\n",
              "    .colab-df-container {\n",
              "      display:flex;\n",
              "      flex-wrap:wrap;\n",
              "      gap: 12px;\n",
              "    }\n",
              "\n",
              "    .colab-df-convert {\n",
              "      background-color: #E8F0FE;\n",
              "      border: none;\n",
              "      border-radius: 50%;\n",
              "      cursor: pointer;\n",
              "      display: none;\n",
              "      fill: #1967D2;\n",
              "      height: 32px;\n",
              "      padding: 0 0 0 0;\n",
              "      width: 32px;\n",
              "    }\n",
              "\n",
              "    .colab-df-convert:hover {\n",
              "      background-color: #E2EBFA;\n",
              "      box-shadow: 0px 1px 2px rgba(60, 64, 67, 0.3), 0px 1px 3px 1px rgba(60, 64, 67, 0.15);\n",
              "      fill: #174EA6;\n",
              "    }\n",
              "\n",
              "    [theme=dark] .colab-df-convert {\n",
              "      background-color: #3B4455;\n",
              "      fill: #D2E3FC;\n",
              "    }\n",
              "\n",
              "    [theme=dark] .colab-df-convert:hover {\n",
              "      background-color: #434B5C;\n",
              "      box-shadow: 0px 1px 3px 1px rgba(0, 0, 0, 0.15);\n",
              "      filter: drop-shadow(0px 1px 2px rgba(0, 0, 0, 0.3));\n",
              "      fill: #FFFFFF;\n",
              "    }\n",
              "  </style>\n",
              "\n",
              "      <script>\n",
              "        const buttonEl =\n",
              "          document.querySelector('#df-e75a6d0d-4fb5-4828-aab8-57a155211aca button.colab-df-convert');\n",
              "        buttonEl.style.display =\n",
              "          google.colab.kernel.accessAllowed ? 'block' : 'none';\n",
              "\n",
              "        async function convertToInteractive(key) {\n",
              "          const element = document.querySelector('#df-e75a6d0d-4fb5-4828-aab8-57a155211aca');\n",
              "          const dataTable =\n",
              "            await google.colab.kernel.invokeFunction('convertToInteractive',\n",
              "                                                     [key], {});\n",
              "          if (!dataTable) return;\n",
              "\n",
              "          const docLinkHtml = 'Like what you see? Visit the ' +\n",
              "            '<a target=\"_blank\" href=https://colab.research.google.com/notebooks/data_table.ipynb>data table notebook</a>'\n",
              "            + ' to learn more about interactive tables.';\n",
              "          element.innerHTML = '';\n",
              "          dataTable['output_type'] = 'display_data';\n",
              "          await google.colab.output.renderOutput(dataTable, element);\n",
              "          const docLink = document.createElement('div');\n",
              "          docLink.innerHTML = docLinkHtml;\n",
              "          element.appendChild(docLink);\n",
              "        }\n",
              "      </script>\n",
              "    </div>\n",
              "  </div>\n",
              "  "
            ]
          },
          "metadata": {},
          "execution_count": 17
        }
      ]
    },
    {
      "cell_type": "code",
      "source": [
        "oneYearArray = oneYearDF.to_numpy()\n",
        "type(oneYearArray)\n",
        "print(oneYearArray)\n"
      ],
      "metadata": {
        "id": "yMe7Tx2uR2Yg",
        "colab": {
          "base_uri": "https://localhost:8080/"
        },
        "outputId": "d53707c6-8a05-4751-987b-0ccc60f0c6e1"
      },
      "execution_count": null,
      "outputs": [
        {
          "output_type": "stream",
          "name": "stdout",
          "text": [
            "[['OKE' 'Energy' 62.25890747839663 7.984659054526134]\n",
            " ['IEX' 'Industrials' 202.8287392624286 2.2931177034758616]\n",
            " ['ROK' 'Industrials' 248.688109261649 -23.688391505500594]\n",
            " ...\n",
            " ['EMR' 'Industrials' 88.512058642732 3.4764545964980775]\n",
            " ['CAH' 'Healthcare' 61.597521196894284 50.740250059611526]\n",
            " ['SBUX' 'Consumer Cyclical' 86.98960466144466 -12.610647634766723]]\n"
          ]
        }
      ]
    },
    {
      "cell_type": "markdown",
      "source": [
        "We imported the CountVectorizer module from the scikit-learn library and defines three empty lists for storing stock prices, industries, and percentage changes. The code then loops through a list of stock tickers called userTickers. For each ticker, it selects the row in a pandas dataframe called oneYearDF that matches the ticker and converts that row to a string. It then extracts the one-year average stock price, industry, and percentage change from the row and appends them to the respective lists. We then extracted the industry using the iloc method to select the last row of selectRow and indexing it with the 'Industry' column name."
      ],
      "metadata": {
        "id": "YW4JCroXZcyX"
      }
    },
    {
      "cell_type": "code",
      "source": [
        "#Lookup and fill vector with user selected stocks info\n",
        "from sklearn.feature_extraction.text import CountVectorizer\n",
        "\n",
        "#Names of tickers stores in userTickers list\n",
        "lookUpPrices = []\n",
        "lookUpIndustries = []\n",
        "lookUpChanges = []\n",
        "# userProfileDF = pd.DataFrame(columns = ['TickerName', 'Industry', 'OneYearAvg', '%Change'])\n",
        "for tkr in userTickers:\n",
        "  selectRow = oneYearDF.loc[oneYearDF['TickerName'] == tkr]\n",
        "  #convert dataframe to string\n",
        "  selectRow = selectRow.astype(str)\n",
        "  lookUpPrices.append(float(selectRow['OneYearAvg']))\n",
        "  # lookUpIndustries.append(str(selectRow['Industry']))\n",
        "  lookUpIndustries.append(selectRow.iloc[-1]['Industry'])\n",
        "  lookUpChanges.append(float(selectRow['%Change']))\n",
        "\n",
        "  # print(selectRow['TickerName'])"
      ],
      "metadata": {
        "id": "wsq4GYlv0sqM"
      },
      "execution_count": null,
      "outputs": []
    },
    {
      "cell_type": "markdown",
      "source": [
        "We created a dataframe called recDF that filters the data in the oneYearDF dataframe based on user-defined criteria, including industry and percentage change in stock price. The code begins by creating parallel arrays of the industries, percentage changes, and average prices for the user-selected stock tickers.\n",
        "\n",
        "The code then loops through each ticker in the userTickers list and sets upper and lower ranges for percentage change based on the percentage change value for that ticker. It filters the oneYearDF dataframe by the industry associated with the ticker and then further filters the resulting subset by the percentage change range. The resulting subset is then concatenated to the recDF dataframe.\n",
        "\n",
        "Finally, the code outputs the length and the first 21 rows of the resulting dataframe. The commented out code lines, subSetDF.head() and print(userFilter), can be used to check intermediate results during the filtering process."
      ],
      "metadata": {
        "id": "V1brhl-nZ11d"
      }
    },
    {
      "cell_type": "code",
      "source": [
        "#Now we have parallel arrays of the three industries, %changes and average prices\n",
        "\n",
        "# Working with userTickers, lookUpPrices, lookUpIndustries, lookUpChanges\n",
        "recDF = pd.DataFrame()\n",
        "#For one row of the dataframe--> get industry and set %change ranges then filter\n",
        "index = 0\n",
        "for tkr in userTickers:\n",
        "  upperRange = lookUpChanges[index] + 5\n",
        "  lowerRange = lookUpChanges[index] - 5\n",
        "  #Filter by industry first\n",
        "  subSetDF = oneYearDF.loc[oneYearDF['Industry'] == lookUpIndustries[index]]\n",
        "  # subSetDF.head()\n",
        "\n",
        "  #Filtering by percent change\n",
        "  userFilter = subSetDF[(subSetDF['%Change'] >= lowerRange) & (subSetDF['%Change'] <= upperRange)]\n",
        "  # print(userFilter)\n",
        "  #Filter\n",
        "  recDF = pd.concat([recDF, userFilter])\n",
        "  index +=1\n",
        "# subSetDF.head()\n",
        "len(recDF)\n",
        "recDF.head(21)\n",
        "\n"
      ],
      "metadata": {
        "colab": {
          "base_uri": "https://localhost:8080/",
          "height": 708
        },
        "id": "5j6GutszMuVW",
        "outputId": "3326820c-d6be-46c7-9f27-2b594e94ea71"
      },
      "execution_count": null,
      "outputs": [
        {
          "output_type": "execute_result",
          "data": {
            "text/plain": [
              "    TickerName                Industry  OneYearAvg    %Change\n",
              "74        HOLX              Healthcare   71.447773   2.079349\n",
              "172        UHS              Healthcare  120.174811  -3.457811\n",
              "241        JNJ              Healthcare  172.264034   2.769034\n",
              "321          A              Healthcare  131.997311  -0.690185\n",
              "355        HCA              Healthcare  221.096177  -5.466782\n",
              "386        BDX              Healthcare  248.799601   1.273445\n",
              "405        ZBH              Healthcare  115.603039  -0.142725\n",
              "27         NOK              Technology    5.015231 -22.496025\n",
              "53         FLT              Technology  219.898824 -18.956340\n",
              "114        TEL              Technology  128.059386 -24.177641\n",
              "115         BR              Technology  151.599917 -20.116051\n",
              "182       MSFT              Technology  270.305336 -25.093353\n",
              "218        HPQ              Technology   33.290105 -24.658074\n",
              "261       AKAM              Technology   99.248404 -23.512896\n",
              "289       AAPL              Technology  155.974118 -21.850442\n",
              "329       CSCO              Technology   48.573172 -23.060479\n",
              "397       VRSN              Technology  194.002269 -22.184764\n",
              "109       GOOG  Communication Services  116.555246 -36.256887\n",
              "133        DIS  Communication Services  115.844601 -39.834776\n",
              "284        LYV  Communication Services   94.652773 -40.151890\n",
              "315       CHTR  Communication Services  470.021808 -40.456780"
            ],
            "text/html": [
              "\n",
              "  <div id=\"df-d8e42a2f-48f4-43f1-bcde-f8867c0d402d\">\n",
              "    <div class=\"colab-df-container\">\n",
              "      <div>\n",
              "<style scoped>\n",
              "    .dataframe tbody tr th:only-of-type {\n",
              "        vertical-align: middle;\n",
              "    }\n",
              "\n",
              "    .dataframe tbody tr th {\n",
              "        vertical-align: top;\n",
              "    }\n",
              "\n",
              "    .dataframe thead th {\n",
              "        text-align: right;\n",
              "    }\n",
              "</style>\n",
              "<table border=\"1\" class=\"dataframe\">\n",
              "  <thead>\n",
              "    <tr style=\"text-align: right;\">\n",
              "      <th></th>\n",
              "      <th>TickerName</th>\n",
              "      <th>Industry</th>\n",
              "      <th>OneYearAvg</th>\n",
              "      <th>%Change</th>\n",
              "    </tr>\n",
              "  </thead>\n",
              "  <tbody>\n",
              "    <tr>\n",
              "      <th>74</th>\n",
              "      <td>HOLX</td>\n",
              "      <td>Healthcare</td>\n",
              "      <td>71.447773</td>\n",
              "      <td>2.079349</td>\n",
              "    </tr>\n",
              "    <tr>\n",
              "      <th>172</th>\n",
              "      <td>UHS</td>\n",
              "      <td>Healthcare</td>\n",
              "      <td>120.174811</td>\n",
              "      <td>-3.457811</td>\n",
              "    </tr>\n",
              "    <tr>\n",
              "      <th>241</th>\n",
              "      <td>JNJ</td>\n",
              "      <td>Healthcare</td>\n",
              "      <td>172.264034</td>\n",
              "      <td>2.769034</td>\n",
              "    </tr>\n",
              "    <tr>\n",
              "      <th>321</th>\n",
              "      <td>A</td>\n",
              "      <td>Healthcare</td>\n",
              "      <td>131.997311</td>\n",
              "      <td>-0.690185</td>\n",
              "    </tr>\n",
              "    <tr>\n",
              "      <th>355</th>\n",
              "      <td>HCA</td>\n",
              "      <td>Healthcare</td>\n",
              "      <td>221.096177</td>\n",
              "      <td>-5.466782</td>\n",
              "    </tr>\n",
              "    <tr>\n",
              "      <th>386</th>\n",
              "      <td>BDX</td>\n",
              "      <td>Healthcare</td>\n",
              "      <td>248.799601</td>\n",
              "      <td>1.273445</td>\n",
              "    </tr>\n",
              "    <tr>\n",
              "      <th>405</th>\n",
              "      <td>ZBH</td>\n",
              "      <td>Healthcare</td>\n",
              "      <td>115.603039</td>\n",
              "      <td>-0.142725</td>\n",
              "    </tr>\n",
              "    <tr>\n",
              "      <th>27</th>\n",
              "      <td>NOK</td>\n",
              "      <td>Technology</td>\n",
              "      <td>5.015231</td>\n",
              "      <td>-22.496025</td>\n",
              "    </tr>\n",
              "    <tr>\n",
              "      <th>53</th>\n",
              "      <td>FLT</td>\n",
              "      <td>Technology</td>\n",
              "      <td>219.898824</td>\n",
              "      <td>-18.956340</td>\n",
              "    </tr>\n",
              "    <tr>\n",
              "      <th>114</th>\n",
              "      <td>TEL</td>\n",
              "      <td>Technology</td>\n",
              "      <td>128.059386</td>\n",
              "      <td>-24.177641</td>\n",
              "    </tr>\n",
              "    <tr>\n",
              "      <th>115</th>\n",
              "      <td>BR</td>\n",
              "      <td>Technology</td>\n",
              "      <td>151.599917</td>\n",
              "      <td>-20.116051</td>\n",
              "    </tr>\n",
              "    <tr>\n",
              "      <th>182</th>\n",
              "      <td>MSFT</td>\n",
              "      <td>Technology</td>\n",
              "      <td>270.305336</td>\n",
              "      <td>-25.093353</td>\n",
              "    </tr>\n",
              "    <tr>\n",
              "      <th>218</th>\n",
              "      <td>HPQ</td>\n",
              "      <td>Technology</td>\n",
              "      <td>33.290105</td>\n",
              "      <td>-24.658074</td>\n",
              "    </tr>\n",
              "    <tr>\n",
              "      <th>261</th>\n",
              "      <td>AKAM</td>\n",
              "      <td>Technology</td>\n",
              "      <td>99.248404</td>\n",
              "      <td>-23.512896</td>\n",
              "    </tr>\n",
              "    <tr>\n",
              "      <th>289</th>\n",
              "      <td>AAPL</td>\n",
              "      <td>Technology</td>\n",
              "      <td>155.974118</td>\n",
              "      <td>-21.850442</td>\n",
              "    </tr>\n",
              "    <tr>\n",
              "      <th>329</th>\n",
              "      <td>CSCO</td>\n",
              "      <td>Technology</td>\n",
              "      <td>48.573172</td>\n",
              "      <td>-23.060479</td>\n",
              "    </tr>\n",
              "    <tr>\n",
              "      <th>397</th>\n",
              "      <td>VRSN</td>\n",
              "      <td>Technology</td>\n",
              "      <td>194.002269</td>\n",
              "      <td>-22.184764</td>\n",
              "    </tr>\n",
              "    <tr>\n",
              "      <th>109</th>\n",
              "      <td>GOOG</td>\n",
              "      <td>Communication Services</td>\n",
              "      <td>116.555246</td>\n",
              "      <td>-36.256887</td>\n",
              "    </tr>\n",
              "    <tr>\n",
              "      <th>133</th>\n",
              "      <td>DIS</td>\n",
              "      <td>Communication Services</td>\n",
              "      <td>115.844601</td>\n",
              "      <td>-39.834776</td>\n",
              "    </tr>\n",
              "    <tr>\n",
              "      <th>284</th>\n",
              "      <td>LYV</td>\n",
              "      <td>Communication Services</td>\n",
              "      <td>94.652773</td>\n",
              "      <td>-40.151890</td>\n",
              "    </tr>\n",
              "    <tr>\n",
              "      <th>315</th>\n",
              "      <td>CHTR</td>\n",
              "      <td>Communication Services</td>\n",
              "      <td>470.021808</td>\n",
              "      <td>-40.456780</td>\n",
              "    </tr>\n",
              "  </tbody>\n",
              "</table>\n",
              "</div>\n",
              "      <button class=\"colab-df-convert\" onclick=\"convertToInteractive('df-d8e42a2f-48f4-43f1-bcde-f8867c0d402d')\"\n",
              "              title=\"Convert this dataframe to an interactive table.\"\n",
              "              style=\"display:none;\">\n",
              "        \n",
              "  <svg xmlns=\"http://www.w3.org/2000/svg\" height=\"24px\"viewBox=\"0 0 24 24\"\n",
              "       width=\"24px\">\n",
              "    <path d=\"M0 0h24v24H0V0z\" fill=\"none\"/>\n",
              "    <path d=\"M18.56 5.44l.94 2.06.94-2.06 2.06-.94-2.06-.94-.94-2.06-.94 2.06-2.06.94zm-11 1L8.5 8.5l.94-2.06 2.06-.94-2.06-.94L8.5 2.5l-.94 2.06-2.06.94zm10 10l.94 2.06.94-2.06 2.06-.94-2.06-.94-.94-2.06-.94 2.06-2.06.94z\"/><path d=\"M17.41 7.96l-1.37-1.37c-.4-.4-.92-.59-1.43-.59-.52 0-1.04.2-1.43.59L10.3 9.45l-7.72 7.72c-.78.78-.78 2.05 0 2.83L4 21.41c.39.39.9.59 1.41.59.51 0 1.02-.2 1.41-.59l7.78-7.78 2.81-2.81c.8-.78.8-2.07 0-2.86zM5.41 20L4 18.59l7.72-7.72 1.47 1.35L5.41 20z\"/>\n",
              "  </svg>\n",
              "      </button>\n",
              "      \n",
              "  <style>\n",
              "    .colab-df-container {\n",
              "      display:flex;\n",
              "      flex-wrap:wrap;\n",
              "      gap: 12px;\n",
              "    }\n",
              "\n",
              "    .colab-df-convert {\n",
              "      background-color: #E8F0FE;\n",
              "      border: none;\n",
              "      border-radius: 50%;\n",
              "      cursor: pointer;\n",
              "      display: none;\n",
              "      fill: #1967D2;\n",
              "      height: 32px;\n",
              "      padding: 0 0 0 0;\n",
              "      width: 32px;\n",
              "    }\n",
              "\n",
              "    .colab-df-convert:hover {\n",
              "      background-color: #E2EBFA;\n",
              "      box-shadow: 0px 1px 2px rgba(60, 64, 67, 0.3), 0px 1px 3px 1px rgba(60, 64, 67, 0.15);\n",
              "      fill: #174EA6;\n",
              "    }\n",
              "\n",
              "    [theme=dark] .colab-df-convert {\n",
              "      background-color: #3B4455;\n",
              "      fill: #D2E3FC;\n",
              "    }\n",
              "\n",
              "    [theme=dark] .colab-df-convert:hover {\n",
              "      background-color: #434B5C;\n",
              "      box-shadow: 0px 1px 3px 1px rgba(0, 0, 0, 0.15);\n",
              "      filter: drop-shadow(0px 1px 2px rgba(0, 0, 0, 0.3));\n",
              "      fill: #FFFFFF;\n",
              "    }\n",
              "  </style>\n",
              "\n",
              "      <script>\n",
              "        const buttonEl =\n",
              "          document.querySelector('#df-d8e42a2f-48f4-43f1-bcde-f8867c0d402d button.colab-df-convert');\n",
              "        buttonEl.style.display =\n",
              "          google.colab.kernel.accessAllowed ? 'block' : 'none';\n",
              "\n",
              "        async function convertToInteractive(key) {\n",
              "          const element = document.querySelector('#df-d8e42a2f-48f4-43f1-bcde-f8867c0d402d');\n",
              "          const dataTable =\n",
              "            await google.colab.kernel.invokeFunction('convertToInteractive',\n",
              "                                                     [key], {});\n",
              "          if (!dataTable) return;\n",
              "\n",
              "          const docLinkHtml = 'Like what you see? Visit the ' +\n",
              "            '<a target=\"_blank\" href=https://colab.research.google.com/notebooks/data_table.ipynb>data table notebook</a>'\n",
              "            + ' to learn more about interactive tables.';\n",
              "          element.innerHTML = '';\n",
              "          dataTable['output_type'] = 'display_data';\n",
              "          await google.colab.output.renderOutput(dataTable, element);\n",
              "          const docLink = document.createElement('div');\n",
              "          docLink.innerHTML = docLinkHtml;\n",
              "          element.appendChild(docLink);\n",
              "        }\n",
              "      </script>\n",
              "    </div>\n",
              "  </div>\n",
              "  "
            ]
          },
          "metadata": {},
          "execution_count": 20
        }
      ]
    },
    {
      "cell_type": "markdown",
      "source": [
        "This link towards the end does what we are trying to accomplish: https://pub.towardsai.net/how-to-build-a-content-based-recommendation-system-f7d881a53e9a"
      ],
      "metadata": {
        "id": "EegxVpjy8cHK"
      }
    },
    {
      "cell_type": "markdown",
      "source": [
        "https://www.youtube.com/watch?v=YMZmLx-AUvY&ab_channel=MyCourse\n"
      ],
      "metadata": {
        "id": "qTuB4PmqPllM"
      }
    },
    {
      "cell_type": "markdown",
      "source": [
        "By determining the market trend stock price averages for entire year we noticed something strange about our data. The average stock price across all of the tickers present in our dataset was coming out to be surpising high (at a value of $1280.4312303275722). This was caused by an outlier in the dataset which is the BerkShire Hathway stock. We decided to drop this stock and create a copy of the dataframe."
      ],
      "metadata": {
        "id": "fRKvmvOidLLF"
      }
    },
    {
      "cell_type": "code",
      "source": [
        "# print(priceAvg)\n",
        "copyOneYearDF = oneYearDF\n",
        "priceAvg = copyOneYearDF[\"OneYearAvg\"].mean()\n",
        "print(priceAvg)\n",
        "\n",
        "\n",
        "\n",
        "copyOneYearDF = copyOneYearDF.drop(copyOneYearDF[copyOneYearDF['TickerName']=='BRK-A'].index.values)\n",
        "# copyOneYearDF = copyOneYearDF.drop(index=21)\n",
        "\n",
        "priceAvg = copyOneYearDF[\"OneYearAvg\"].mean()\n",
        "print(priceAvg)\n",
        "copyOneYearDF.head(30)"
      ],
      "metadata": {
        "colab": {
          "base_uri": "https://localhost:8080/",
          "height": 1000
        },
        "id": "DFD4P7UIcJic",
        "outputId": "4d0dab19-f311-4b32-dfc1-ec79f43488c6"
      },
      "execution_count": null,
      "outputs": [
        {
          "output_type": "stream",
          "name": "stdout",
          "text": [
            "1280.4312303275722\n",
            "150.34677233728536\n"
          ]
        },
        {
          "output_type": "execute_result",
          "data": {
            "text/plain": [
              "   TickerName                Industry  OneYearAvg    %Change\n",
              "0         OKE                  Energy   62.258907   7.984659\n",
              "1         IEX             Industrials  202.828739   2.293118\n",
              "2         ROK             Industrials  248.688109 -23.688392\n",
              "3         AAP       Consumer Cyclical  193.096512 -38.985555\n",
              "4           V      Financial Services  206.949033  -3.639976\n",
              "5         FIS              Technology   93.228971 -37.851244\n",
              "6         ROL       Consumer Cyclical   35.354034  14.434531\n",
              "7         AME             Industrials  126.359328  -2.248205\n",
              "8        MNST      Consumer Defensive   89.401933   4.081212\n",
              "9          WU      Financial Services   16.529265 -24.473830\n",
              "10        HSY      Consumer Defensive  218.151428  22.379741\n",
              "11        KMB      Consumer Defensive  129.806764  -4.725125\n",
              "12      GS-PJ      Financial Services   24.990827  -6.813259\n",
              "13        AOS             Industrials   61.703466 -30.890270\n",
              "14        FCX         Basic Materials   36.993929  -7.967696\n",
              "15        TXN              Technology  169.818824  -8.546699\n",
              "16       TROW      Financial Services  129.235399 -38.300442\n",
              "17        AMT             Real Estate  241.450714 -25.228717\n",
              "18         FE               Utilities   40.829538   1.091166\n",
              "19        HON             Industrials  192.499748   2.432301\n",
              "20        PPG         Basic Materials  129.126597 -23.282532\n",
              "22        TMO              Healthcare  553.933592 -12.180580\n",
              "23        ACN              Technology  302.302143 -28.459514\n",
              "24         DE             Industrials  371.717139  24.035076\n",
              "25        SEE       Consumer Cyclical   58.695210 -22.592761\n",
              "26        JPM      Financial Services  127.925882 -17.489177\n",
              "27        NOK              Technology    5.015231 -22.496025\n",
              "28        ITW             Industrials  207.804748  -9.171185\n",
              "29         EA  Communication Services  127.708823  -8.291956\n",
              "30       JBHT             Industrials  179.368193  -9.988111"
            ],
            "text/html": [
              "\n",
              "  <div id=\"df-bfe6d59e-5692-4b69-9ccb-fdcdf9257a31\">\n",
              "    <div class=\"colab-df-container\">\n",
              "      <div>\n",
              "<style scoped>\n",
              "    .dataframe tbody tr th:only-of-type {\n",
              "        vertical-align: middle;\n",
              "    }\n",
              "\n",
              "    .dataframe tbody tr th {\n",
              "        vertical-align: top;\n",
              "    }\n",
              "\n",
              "    .dataframe thead th {\n",
              "        text-align: right;\n",
              "    }\n",
              "</style>\n",
              "<table border=\"1\" class=\"dataframe\">\n",
              "  <thead>\n",
              "    <tr style=\"text-align: right;\">\n",
              "      <th></th>\n",
              "      <th>TickerName</th>\n",
              "      <th>Industry</th>\n",
              "      <th>OneYearAvg</th>\n",
              "      <th>%Change</th>\n",
              "    </tr>\n",
              "  </thead>\n",
              "  <tbody>\n",
              "    <tr>\n",
              "      <th>0</th>\n",
              "      <td>OKE</td>\n",
              "      <td>Energy</td>\n",
              "      <td>62.258907</td>\n",
              "      <td>7.984659</td>\n",
              "    </tr>\n",
              "    <tr>\n",
              "      <th>1</th>\n",
              "      <td>IEX</td>\n",
              "      <td>Industrials</td>\n",
              "      <td>202.828739</td>\n",
              "      <td>2.293118</td>\n",
              "    </tr>\n",
              "    <tr>\n",
              "      <th>2</th>\n",
              "      <td>ROK</td>\n",
              "      <td>Industrials</td>\n",
              "      <td>248.688109</td>\n",
              "      <td>-23.688392</td>\n",
              "    </tr>\n",
              "    <tr>\n",
              "      <th>3</th>\n",
              "      <td>AAP</td>\n",
              "      <td>Consumer Cyclical</td>\n",
              "      <td>193.096512</td>\n",
              "      <td>-38.985555</td>\n",
              "    </tr>\n",
              "    <tr>\n",
              "      <th>4</th>\n",
              "      <td>V</td>\n",
              "      <td>Financial Services</td>\n",
              "      <td>206.949033</td>\n",
              "      <td>-3.639976</td>\n",
              "    </tr>\n",
              "    <tr>\n",
              "      <th>5</th>\n",
              "      <td>FIS</td>\n",
              "      <td>Technology</td>\n",
              "      <td>93.228971</td>\n",
              "      <td>-37.851244</td>\n",
              "    </tr>\n",
              "    <tr>\n",
              "      <th>6</th>\n",
              "      <td>ROL</td>\n",
              "      <td>Consumer Cyclical</td>\n",
              "      <td>35.354034</td>\n",
              "      <td>14.434531</td>\n",
              "    </tr>\n",
              "    <tr>\n",
              "      <th>7</th>\n",
              "      <td>AME</td>\n",
              "      <td>Industrials</td>\n",
              "      <td>126.359328</td>\n",
              "      <td>-2.248205</td>\n",
              "    </tr>\n",
              "    <tr>\n",
              "      <th>8</th>\n",
              "      <td>MNST</td>\n",
              "      <td>Consumer Defensive</td>\n",
              "      <td>89.401933</td>\n",
              "      <td>4.081212</td>\n",
              "    </tr>\n",
              "    <tr>\n",
              "      <th>9</th>\n",
              "      <td>WU</td>\n",
              "      <td>Financial Services</td>\n",
              "      <td>16.529265</td>\n",
              "      <td>-24.473830</td>\n",
              "    </tr>\n",
              "    <tr>\n",
              "      <th>10</th>\n",
              "      <td>HSY</td>\n",
              "      <td>Consumer Defensive</td>\n",
              "      <td>218.151428</td>\n",
              "      <td>22.379741</td>\n",
              "    </tr>\n",
              "    <tr>\n",
              "      <th>11</th>\n",
              "      <td>KMB</td>\n",
              "      <td>Consumer Defensive</td>\n",
              "      <td>129.806764</td>\n",
              "      <td>-4.725125</td>\n",
              "    </tr>\n",
              "    <tr>\n",
              "      <th>12</th>\n",
              "      <td>GS-PJ</td>\n",
              "      <td>Financial Services</td>\n",
              "      <td>24.990827</td>\n",
              "      <td>-6.813259</td>\n",
              "    </tr>\n",
              "    <tr>\n",
              "      <th>13</th>\n",
              "      <td>AOS</td>\n",
              "      <td>Industrials</td>\n",
              "      <td>61.703466</td>\n",
              "      <td>-30.890270</td>\n",
              "    </tr>\n",
              "    <tr>\n",
              "      <th>14</th>\n",
              "      <td>FCX</td>\n",
              "      <td>Basic Materials</td>\n",
              "      <td>36.993929</td>\n",
              "      <td>-7.967696</td>\n",
              "    </tr>\n",
              "    <tr>\n",
              "      <th>15</th>\n",
              "      <td>TXN</td>\n",
              "      <td>Technology</td>\n",
              "      <td>169.818824</td>\n",
              "      <td>-8.546699</td>\n",
              "    </tr>\n",
              "    <tr>\n",
              "      <th>16</th>\n",
              "      <td>TROW</td>\n",
              "      <td>Financial Services</td>\n",
              "      <td>129.235399</td>\n",
              "      <td>-38.300442</td>\n",
              "    </tr>\n",
              "    <tr>\n",
              "      <th>17</th>\n",
              "      <td>AMT</td>\n",
              "      <td>Real Estate</td>\n",
              "      <td>241.450714</td>\n",
              "      <td>-25.228717</td>\n",
              "    </tr>\n",
              "    <tr>\n",
              "      <th>18</th>\n",
              "      <td>FE</td>\n",
              "      <td>Utilities</td>\n",
              "      <td>40.829538</td>\n",
              "      <td>1.091166</td>\n",
              "    </tr>\n",
              "    <tr>\n",
              "      <th>19</th>\n",
              "      <td>HON</td>\n",
              "      <td>Industrials</td>\n",
              "      <td>192.499748</td>\n",
              "      <td>2.432301</td>\n",
              "    </tr>\n",
              "    <tr>\n",
              "      <th>20</th>\n",
              "      <td>PPG</td>\n",
              "      <td>Basic Materials</td>\n",
              "      <td>129.126597</td>\n",
              "      <td>-23.282532</td>\n",
              "    </tr>\n",
              "    <tr>\n",
              "      <th>22</th>\n",
              "      <td>TMO</td>\n",
              "      <td>Healthcare</td>\n",
              "      <td>553.933592</td>\n",
              "      <td>-12.180580</td>\n",
              "    </tr>\n",
              "    <tr>\n",
              "      <th>23</th>\n",
              "      <td>ACN</td>\n",
              "      <td>Technology</td>\n",
              "      <td>302.302143</td>\n",
              "      <td>-28.459514</td>\n",
              "    </tr>\n",
              "    <tr>\n",
              "      <th>24</th>\n",
              "      <td>DE</td>\n",
              "      <td>Industrials</td>\n",
              "      <td>371.717139</td>\n",
              "      <td>24.035076</td>\n",
              "    </tr>\n",
              "    <tr>\n",
              "      <th>25</th>\n",
              "      <td>SEE</td>\n",
              "      <td>Consumer Cyclical</td>\n",
              "      <td>58.695210</td>\n",
              "      <td>-22.592761</td>\n",
              "    </tr>\n",
              "    <tr>\n",
              "      <th>26</th>\n",
              "      <td>JPM</td>\n",
              "      <td>Financial Services</td>\n",
              "      <td>127.925882</td>\n",
              "      <td>-17.489177</td>\n",
              "    </tr>\n",
              "    <tr>\n",
              "      <th>27</th>\n",
              "      <td>NOK</td>\n",
              "      <td>Technology</td>\n",
              "      <td>5.015231</td>\n",
              "      <td>-22.496025</td>\n",
              "    </tr>\n",
              "    <tr>\n",
              "      <th>28</th>\n",
              "      <td>ITW</td>\n",
              "      <td>Industrials</td>\n",
              "      <td>207.804748</td>\n",
              "      <td>-9.171185</td>\n",
              "    </tr>\n",
              "    <tr>\n",
              "      <th>29</th>\n",
              "      <td>EA</td>\n",
              "      <td>Communication Services</td>\n",
              "      <td>127.708823</td>\n",
              "      <td>-8.291956</td>\n",
              "    </tr>\n",
              "    <tr>\n",
              "      <th>30</th>\n",
              "      <td>JBHT</td>\n",
              "      <td>Industrials</td>\n",
              "      <td>179.368193</td>\n",
              "      <td>-9.988111</td>\n",
              "    </tr>\n",
              "  </tbody>\n",
              "</table>\n",
              "</div>\n",
              "      <button class=\"colab-df-convert\" onclick=\"convertToInteractive('df-bfe6d59e-5692-4b69-9ccb-fdcdf9257a31')\"\n",
              "              title=\"Convert this dataframe to an interactive table.\"\n",
              "              style=\"display:none;\">\n",
              "        \n",
              "  <svg xmlns=\"http://www.w3.org/2000/svg\" height=\"24px\"viewBox=\"0 0 24 24\"\n",
              "       width=\"24px\">\n",
              "    <path d=\"M0 0h24v24H0V0z\" fill=\"none\"/>\n",
              "    <path d=\"M18.56 5.44l.94 2.06.94-2.06 2.06-.94-2.06-.94-.94-2.06-.94 2.06-2.06.94zm-11 1L8.5 8.5l.94-2.06 2.06-.94-2.06-.94L8.5 2.5l-.94 2.06-2.06.94zm10 10l.94 2.06.94-2.06 2.06-.94-2.06-.94-.94-2.06-.94 2.06-2.06.94z\"/><path d=\"M17.41 7.96l-1.37-1.37c-.4-.4-.92-.59-1.43-.59-.52 0-1.04.2-1.43.59L10.3 9.45l-7.72 7.72c-.78.78-.78 2.05 0 2.83L4 21.41c.39.39.9.59 1.41.59.51 0 1.02-.2 1.41-.59l7.78-7.78 2.81-2.81c.8-.78.8-2.07 0-2.86zM5.41 20L4 18.59l7.72-7.72 1.47 1.35L5.41 20z\"/>\n",
              "  </svg>\n",
              "      </button>\n",
              "      \n",
              "  <style>\n",
              "    .colab-df-container {\n",
              "      display:flex;\n",
              "      flex-wrap:wrap;\n",
              "      gap: 12px;\n",
              "    }\n",
              "\n",
              "    .colab-df-convert {\n",
              "      background-color: #E8F0FE;\n",
              "      border: none;\n",
              "      border-radius: 50%;\n",
              "      cursor: pointer;\n",
              "      display: none;\n",
              "      fill: #1967D2;\n",
              "      height: 32px;\n",
              "      padding: 0 0 0 0;\n",
              "      width: 32px;\n",
              "    }\n",
              "\n",
              "    .colab-df-convert:hover {\n",
              "      background-color: #E2EBFA;\n",
              "      box-shadow: 0px 1px 2px rgba(60, 64, 67, 0.3), 0px 1px 3px 1px rgba(60, 64, 67, 0.15);\n",
              "      fill: #174EA6;\n",
              "    }\n",
              "\n",
              "    [theme=dark] .colab-df-convert {\n",
              "      background-color: #3B4455;\n",
              "      fill: #D2E3FC;\n",
              "    }\n",
              "\n",
              "    [theme=dark] .colab-df-convert:hover {\n",
              "      background-color: #434B5C;\n",
              "      box-shadow: 0px 1px 3px 1px rgba(0, 0, 0, 0.15);\n",
              "      filter: drop-shadow(0px 1px 2px rgba(0, 0, 0, 0.3));\n",
              "      fill: #FFFFFF;\n",
              "    }\n",
              "  </style>\n",
              "\n",
              "      <script>\n",
              "        const buttonEl =\n",
              "          document.querySelector('#df-bfe6d59e-5692-4b69-9ccb-fdcdf9257a31 button.colab-df-convert');\n",
              "        buttonEl.style.display =\n",
              "          google.colab.kernel.accessAllowed ? 'block' : 'none';\n",
              "\n",
              "        async function convertToInteractive(key) {\n",
              "          const element = document.querySelector('#df-bfe6d59e-5692-4b69-9ccb-fdcdf9257a31');\n",
              "          const dataTable =\n",
              "            await google.colab.kernel.invokeFunction('convertToInteractive',\n",
              "                                                     [key], {});\n",
              "          if (!dataTable) return;\n",
              "\n",
              "          const docLinkHtml = 'Like what you see? Visit the ' +\n",
              "            '<a target=\"_blank\" href=https://colab.research.google.com/notebooks/data_table.ipynb>data table notebook</a>'\n",
              "            + ' to learn more about interactive tables.';\n",
              "          element.innerHTML = '';\n",
              "          dataTable['output_type'] = 'display_data';\n",
              "          await google.colab.output.renderOutput(dataTable, element);\n",
              "          const docLink = document.createElement('div');\n",
              "          docLink.innerHTML = docLinkHtml;\n",
              "          element.appendChild(docLink);\n",
              "        }\n",
              "      </script>\n",
              "    </div>\n",
              "  </div>\n",
              "  "
            ]
          },
          "metadata": {},
          "execution_count": 21
        }
      ]
    },
    {
      "cell_type": "markdown",
      "source": [
        "Here we take a different approach to combining fields and applying different similarity techniques. The code begins by calculating the average percentage change and average stock price from the copyOneYearDF dataframe and printing the average stock price.\n",
        "\n",
        "The code then adds two new columns to the dataframe, 'changeTag' and 'priceTag', which are classified strings based on the numerical values of '%Change' and 'OneYearAvg' columns. If the percentage change value is greater than the calculated average, the value in the 'changeTag' column is set to 'AboveAvg'; otherwise, it is set to 'BelowAvg'. Similarly, if the stock price is greater than the average, the value in the 'priceTag' column is set to 'HighPrice'; otherwise, it is set to 'LowPrice'.\n",
        "\n",
        "These classified strings can then be used to apply different similarity techniques in the content-based recommendation system. The code outputs the first few rows of the modified dataframe using the head() method."
      ],
      "metadata": {
        "id": "LsEoSS-iaaO2"
      }
    },
    {
      "cell_type": "code",
      "source": [
        "# Trying a different approach to combine fields and apply different similarity techniques\n",
        "#Average values used for classification\n",
        "changeAvg = copyOneYearDF[\"%Change\"].mean()\n",
        "priceAvg = copyOneYearDF[\"OneYearAvg\"].mean()\n",
        "print(priceAvg)\n",
        "#Turning the number values into hard classified strings for applying similarity\n",
        "copyOneYearDF['changeTag'] = np.where(copyOneYearDF['%Change'] > changeAvg, 'AboveAvg', 'BelowAvg')\n",
        "copyOneYearDF['priceTag'] = np.where(copyOneYearDF['OneYearAvg'] > priceAvg, 'HighPrice', 'LowPrice')\n",
        "\n",
        "copyOneYearDF.head()"
      ],
      "metadata": {
        "colab": {
          "base_uri": "https://localhost:8080/",
          "height": 224
        },
        "id": "Ek4RJ2TsJQzg",
        "outputId": "8a2478e0-f5f2-47cb-f3de-425a349b65ed"
      },
      "execution_count": null,
      "outputs": [
        {
          "output_type": "stream",
          "name": "stdout",
          "text": [
            "150.34677233728536\n"
          ]
        },
        {
          "output_type": "execute_result",
          "data": {
            "text/plain": [
              "  TickerName            Industry  OneYearAvg    %Change changeTag   priceTag\n",
              "0        OKE              Energy   62.258907   7.984659  AboveAvg   LowPrice\n",
              "1        IEX         Industrials  202.828739   2.293118  AboveAvg  HighPrice\n",
              "2        ROK         Industrials  248.688109 -23.688392  BelowAvg  HighPrice\n",
              "3        AAP   Consumer Cyclical  193.096512 -38.985555  BelowAvg  HighPrice\n",
              "4          V  Financial Services  206.949033  -3.639976  AboveAvg  HighPrice"
            ],
            "text/html": [
              "\n",
              "  <div id=\"df-0790e981-a3cf-4151-8ee3-87a43585c42b\">\n",
              "    <div class=\"colab-df-container\">\n",
              "      <div>\n",
              "<style scoped>\n",
              "    .dataframe tbody tr th:only-of-type {\n",
              "        vertical-align: middle;\n",
              "    }\n",
              "\n",
              "    .dataframe tbody tr th {\n",
              "        vertical-align: top;\n",
              "    }\n",
              "\n",
              "    .dataframe thead th {\n",
              "        text-align: right;\n",
              "    }\n",
              "</style>\n",
              "<table border=\"1\" class=\"dataframe\">\n",
              "  <thead>\n",
              "    <tr style=\"text-align: right;\">\n",
              "      <th></th>\n",
              "      <th>TickerName</th>\n",
              "      <th>Industry</th>\n",
              "      <th>OneYearAvg</th>\n",
              "      <th>%Change</th>\n",
              "      <th>changeTag</th>\n",
              "      <th>priceTag</th>\n",
              "    </tr>\n",
              "  </thead>\n",
              "  <tbody>\n",
              "    <tr>\n",
              "      <th>0</th>\n",
              "      <td>OKE</td>\n",
              "      <td>Energy</td>\n",
              "      <td>62.258907</td>\n",
              "      <td>7.984659</td>\n",
              "      <td>AboveAvg</td>\n",
              "      <td>LowPrice</td>\n",
              "    </tr>\n",
              "    <tr>\n",
              "      <th>1</th>\n",
              "      <td>IEX</td>\n",
              "      <td>Industrials</td>\n",
              "      <td>202.828739</td>\n",
              "      <td>2.293118</td>\n",
              "      <td>AboveAvg</td>\n",
              "      <td>HighPrice</td>\n",
              "    </tr>\n",
              "    <tr>\n",
              "      <th>2</th>\n",
              "      <td>ROK</td>\n",
              "      <td>Industrials</td>\n",
              "      <td>248.688109</td>\n",
              "      <td>-23.688392</td>\n",
              "      <td>BelowAvg</td>\n",
              "      <td>HighPrice</td>\n",
              "    </tr>\n",
              "    <tr>\n",
              "      <th>3</th>\n",
              "      <td>AAP</td>\n",
              "      <td>Consumer Cyclical</td>\n",
              "      <td>193.096512</td>\n",
              "      <td>-38.985555</td>\n",
              "      <td>BelowAvg</td>\n",
              "      <td>HighPrice</td>\n",
              "    </tr>\n",
              "    <tr>\n",
              "      <th>4</th>\n",
              "      <td>V</td>\n",
              "      <td>Financial Services</td>\n",
              "      <td>206.949033</td>\n",
              "      <td>-3.639976</td>\n",
              "      <td>AboveAvg</td>\n",
              "      <td>HighPrice</td>\n",
              "    </tr>\n",
              "  </tbody>\n",
              "</table>\n",
              "</div>\n",
              "      <button class=\"colab-df-convert\" onclick=\"convertToInteractive('df-0790e981-a3cf-4151-8ee3-87a43585c42b')\"\n",
              "              title=\"Convert this dataframe to an interactive table.\"\n",
              "              style=\"display:none;\">\n",
              "        \n",
              "  <svg xmlns=\"http://www.w3.org/2000/svg\" height=\"24px\"viewBox=\"0 0 24 24\"\n",
              "       width=\"24px\">\n",
              "    <path d=\"M0 0h24v24H0V0z\" fill=\"none\"/>\n",
              "    <path d=\"M18.56 5.44l.94 2.06.94-2.06 2.06-.94-2.06-.94-.94-2.06-.94 2.06-2.06.94zm-11 1L8.5 8.5l.94-2.06 2.06-.94-2.06-.94L8.5 2.5l-.94 2.06-2.06.94zm10 10l.94 2.06.94-2.06 2.06-.94-2.06-.94-.94-2.06-.94 2.06-2.06.94z\"/><path d=\"M17.41 7.96l-1.37-1.37c-.4-.4-.92-.59-1.43-.59-.52 0-1.04.2-1.43.59L10.3 9.45l-7.72 7.72c-.78.78-.78 2.05 0 2.83L4 21.41c.39.39.9.59 1.41.59.51 0 1.02-.2 1.41-.59l7.78-7.78 2.81-2.81c.8-.78.8-2.07 0-2.86zM5.41 20L4 18.59l7.72-7.72 1.47 1.35L5.41 20z\"/>\n",
              "  </svg>\n",
              "      </button>\n",
              "      \n",
              "  <style>\n",
              "    .colab-df-container {\n",
              "      display:flex;\n",
              "      flex-wrap:wrap;\n",
              "      gap: 12px;\n",
              "    }\n",
              "\n",
              "    .colab-df-convert {\n",
              "      background-color: #E8F0FE;\n",
              "      border: none;\n",
              "      border-radius: 50%;\n",
              "      cursor: pointer;\n",
              "      display: none;\n",
              "      fill: #1967D2;\n",
              "      height: 32px;\n",
              "      padding: 0 0 0 0;\n",
              "      width: 32px;\n",
              "    }\n",
              "\n",
              "    .colab-df-convert:hover {\n",
              "      background-color: #E2EBFA;\n",
              "      box-shadow: 0px 1px 2px rgba(60, 64, 67, 0.3), 0px 1px 3px 1px rgba(60, 64, 67, 0.15);\n",
              "      fill: #174EA6;\n",
              "    }\n",
              "\n",
              "    [theme=dark] .colab-df-convert {\n",
              "      background-color: #3B4455;\n",
              "      fill: #D2E3FC;\n",
              "    }\n",
              "\n",
              "    [theme=dark] .colab-df-convert:hover {\n",
              "      background-color: #434B5C;\n",
              "      box-shadow: 0px 1px 3px 1px rgba(0, 0, 0, 0.15);\n",
              "      filter: drop-shadow(0px 1px 2px rgba(0, 0, 0, 0.3));\n",
              "      fill: #FFFFFF;\n",
              "    }\n",
              "  </style>\n",
              "\n",
              "      <script>\n",
              "        const buttonEl =\n",
              "          document.querySelector('#df-0790e981-a3cf-4151-8ee3-87a43585c42b button.colab-df-convert');\n",
              "        buttonEl.style.display =\n",
              "          google.colab.kernel.accessAllowed ? 'block' : 'none';\n",
              "\n",
              "        async function convertToInteractive(key) {\n",
              "          const element = document.querySelector('#df-0790e981-a3cf-4151-8ee3-87a43585c42b');\n",
              "          const dataTable =\n",
              "            await google.colab.kernel.invokeFunction('convertToInteractive',\n",
              "                                                     [key], {});\n",
              "          if (!dataTable) return;\n",
              "\n",
              "          const docLinkHtml = 'Like what you see? Visit the ' +\n",
              "            '<a target=\"_blank\" href=https://colab.research.google.com/notebooks/data_table.ipynb>data table notebook</a>'\n",
              "            + ' to learn more about interactive tables.';\n",
              "          element.innerHTML = '';\n",
              "          dataTable['output_type'] = 'display_data';\n",
              "          await google.colab.output.renderOutput(dataTable, element);\n",
              "          const docLink = document.createElement('div');\n",
              "          docLink.innerHTML = docLinkHtml;\n",
              "          element.appendChild(docLink);\n",
              "        }\n",
              "      </script>\n",
              "    </div>\n",
              "  </div>\n",
              "  "
            ]
          },
          "metadata": {},
          "execution_count": 22
        }
      ]
    },
    {
      "cell_type": "markdown",
      "source": [
        "Here we define a function create_combo(x) that takes in a row copyOneYearDF and combines the values in the \"Industry\", \"changeTag\", and \"priceTag\" columns into a single string, with each value converted to lowercase and separated by spaces.\n",
        "\n",
        "Then, the function is applied to each row in the DataFrame copyOneYearDF using the apply() method with axis=1 to apply it row-wise. The resulting output is a new column called \"combos\" that contains the combined strings for each row in the DataFrame.\n",
        "\n",
        "The purpose of this code is to create a new feature that combines multiple attributes of each stock into a single string for similarity calculation."
      ],
      "metadata": {
        "id": "2vBRKty5bqpV"
      }
    },
    {
      "cell_type": "code",
      "source": [
        "#Combo function that takes in a\n",
        "def create_combo(x):\n",
        "  combos = x['Industry'].lower()\n",
        "  combos = combos + \" \" + (x['changeTag'].lower())\n",
        "  combos = combos + \" \" + (x['priceTag'].lower())\n",
        "  return combos\n",
        "\n",
        "#Combining the tags into one field for similarity calculation\n",
        "copyOneYearDF['combos'] = copyOneYearDF.apply(create_combo, axis=1)\n",
        "copyOneYearDF.head()\n"
      ],
      "metadata": {
        "colab": {
          "base_uri": "https://localhost:8080/",
          "height": 250
        },
        "id": "hr4owfZphypU",
        "outputId": "eb895974-577e-4314-8ebf-667b064b5555"
      },
      "execution_count": null,
      "outputs": [
        {
          "output_type": "execute_result",
          "data": {
            "text/plain": [
              "  TickerName            Industry  OneYearAvg    %Change changeTag   priceTag  \\\n",
              "0        OKE              Energy   62.258907   7.984659  AboveAvg   LowPrice   \n",
              "1        IEX         Industrials  202.828739   2.293118  AboveAvg  HighPrice   \n",
              "2        ROK         Industrials  248.688109 -23.688392  BelowAvg  HighPrice   \n",
              "3        AAP   Consumer Cyclical  193.096512 -38.985555  BelowAvg  HighPrice   \n",
              "4          V  Financial Services  206.949033  -3.639976  AboveAvg  HighPrice   \n",
              "\n",
              "                                  combos  \n",
              "0               energy aboveavg lowprice  \n",
              "1         industrials aboveavg highprice  \n",
              "2         industrials belowavg highprice  \n",
              "3   consumer cyclical belowavg highprice  \n",
              "4  financial services aboveavg highprice  "
            ],
            "text/html": [
              "\n",
              "  <div id=\"df-23e9b5a2-b9a3-4295-8aef-24ac0fabdde1\">\n",
              "    <div class=\"colab-df-container\">\n",
              "      <div>\n",
              "<style scoped>\n",
              "    .dataframe tbody tr th:only-of-type {\n",
              "        vertical-align: middle;\n",
              "    }\n",
              "\n",
              "    .dataframe tbody tr th {\n",
              "        vertical-align: top;\n",
              "    }\n",
              "\n",
              "    .dataframe thead th {\n",
              "        text-align: right;\n",
              "    }\n",
              "</style>\n",
              "<table border=\"1\" class=\"dataframe\">\n",
              "  <thead>\n",
              "    <tr style=\"text-align: right;\">\n",
              "      <th></th>\n",
              "      <th>TickerName</th>\n",
              "      <th>Industry</th>\n",
              "      <th>OneYearAvg</th>\n",
              "      <th>%Change</th>\n",
              "      <th>changeTag</th>\n",
              "      <th>priceTag</th>\n",
              "      <th>combos</th>\n",
              "    </tr>\n",
              "  </thead>\n",
              "  <tbody>\n",
              "    <tr>\n",
              "      <th>0</th>\n",
              "      <td>OKE</td>\n",
              "      <td>Energy</td>\n",
              "      <td>62.258907</td>\n",
              "      <td>7.984659</td>\n",
              "      <td>AboveAvg</td>\n",
              "      <td>LowPrice</td>\n",
              "      <td>energy aboveavg lowprice</td>\n",
              "    </tr>\n",
              "    <tr>\n",
              "      <th>1</th>\n",
              "      <td>IEX</td>\n",
              "      <td>Industrials</td>\n",
              "      <td>202.828739</td>\n",
              "      <td>2.293118</td>\n",
              "      <td>AboveAvg</td>\n",
              "      <td>HighPrice</td>\n",
              "      <td>industrials aboveavg highprice</td>\n",
              "    </tr>\n",
              "    <tr>\n",
              "      <th>2</th>\n",
              "      <td>ROK</td>\n",
              "      <td>Industrials</td>\n",
              "      <td>248.688109</td>\n",
              "      <td>-23.688392</td>\n",
              "      <td>BelowAvg</td>\n",
              "      <td>HighPrice</td>\n",
              "      <td>industrials belowavg highprice</td>\n",
              "    </tr>\n",
              "    <tr>\n",
              "      <th>3</th>\n",
              "      <td>AAP</td>\n",
              "      <td>Consumer Cyclical</td>\n",
              "      <td>193.096512</td>\n",
              "      <td>-38.985555</td>\n",
              "      <td>BelowAvg</td>\n",
              "      <td>HighPrice</td>\n",
              "      <td>consumer cyclical belowavg highprice</td>\n",
              "    </tr>\n",
              "    <tr>\n",
              "      <th>4</th>\n",
              "      <td>V</td>\n",
              "      <td>Financial Services</td>\n",
              "      <td>206.949033</td>\n",
              "      <td>-3.639976</td>\n",
              "      <td>AboveAvg</td>\n",
              "      <td>HighPrice</td>\n",
              "      <td>financial services aboveavg highprice</td>\n",
              "    </tr>\n",
              "  </tbody>\n",
              "</table>\n",
              "</div>\n",
              "      <button class=\"colab-df-convert\" onclick=\"convertToInteractive('df-23e9b5a2-b9a3-4295-8aef-24ac0fabdde1')\"\n",
              "              title=\"Convert this dataframe to an interactive table.\"\n",
              "              style=\"display:none;\">\n",
              "        \n",
              "  <svg xmlns=\"http://www.w3.org/2000/svg\" height=\"24px\"viewBox=\"0 0 24 24\"\n",
              "       width=\"24px\">\n",
              "    <path d=\"M0 0h24v24H0V0z\" fill=\"none\"/>\n",
              "    <path d=\"M18.56 5.44l.94 2.06.94-2.06 2.06-.94-2.06-.94-.94-2.06-.94 2.06-2.06.94zm-11 1L8.5 8.5l.94-2.06 2.06-.94-2.06-.94L8.5 2.5l-.94 2.06-2.06.94zm10 10l.94 2.06.94-2.06 2.06-.94-2.06-.94-.94-2.06-.94 2.06-2.06.94z\"/><path d=\"M17.41 7.96l-1.37-1.37c-.4-.4-.92-.59-1.43-.59-.52 0-1.04.2-1.43.59L10.3 9.45l-7.72 7.72c-.78.78-.78 2.05 0 2.83L4 21.41c.39.39.9.59 1.41.59.51 0 1.02-.2 1.41-.59l7.78-7.78 2.81-2.81c.8-.78.8-2.07 0-2.86zM5.41 20L4 18.59l7.72-7.72 1.47 1.35L5.41 20z\"/>\n",
              "  </svg>\n",
              "      </button>\n",
              "      \n",
              "  <style>\n",
              "    .colab-df-container {\n",
              "      display:flex;\n",
              "      flex-wrap:wrap;\n",
              "      gap: 12px;\n",
              "    }\n",
              "\n",
              "    .colab-df-convert {\n",
              "      background-color: #E8F0FE;\n",
              "      border: none;\n",
              "      border-radius: 50%;\n",
              "      cursor: pointer;\n",
              "      display: none;\n",
              "      fill: #1967D2;\n",
              "      height: 32px;\n",
              "      padding: 0 0 0 0;\n",
              "      width: 32px;\n",
              "    }\n",
              "\n",
              "    .colab-df-convert:hover {\n",
              "      background-color: #E2EBFA;\n",
              "      box-shadow: 0px 1px 2px rgba(60, 64, 67, 0.3), 0px 1px 3px 1px rgba(60, 64, 67, 0.15);\n",
              "      fill: #174EA6;\n",
              "    }\n",
              "\n",
              "    [theme=dark] .colab-df-convert {\n",
              "      background-color: #3B4455;\n",
              "      fill: #D2E3FC;\n",
              "    }\n",
              "\n",
              "    [theme=dark] .colab-df-convert:hover {\n",
              "      background-color: #434B5C;\n",
              "      box-shadow: 0px 1px 3px 1px rgba(0, 0, 0, 0.15);\n",
              "      filter: drop-shadow(0px 1px 2px rgba(0, 0, 0, 0.3));\n",
              "      fill: #FFFFFF;\n",
              "    }\n",
              "  </style>\n",
              "\n",
              "      <script>\n",
              "        const buttonEl =\n",
              "          document.querySelector('#df-23e9b5a2-b9a3-4295-8aef-24ac0fabdde1 button.colab-df-convert');\n",
              "        buttonEl.style.display =\n",
              "          google.colab.kernel.accessAllowed ? 'block' : 'none';\n",
              "\n",
              "        async function convertToInteractive(key) {\n",
              "          const element = document.querySelector('#df-23e9b5a2-b9a3-4295-8aef-24ac0fabdde1');\n",
              "          const dataTable =\n",
              "            await google.colab.kernel.invokeFunction('convertToInteractive',\n",
              "                                                     [key], {});\n",
              "          if (!dataTable) return;\n",
              "\n",
              "          const docLinkHtml = 'Like what you see? Visit the ' +\n",
              "            '<a target=\"_blank\" href=https://colab.research.google.com/notebooks/data_table.ipynb>data table notebook</a>'\n",
              "            + ' to learn more about interactive tables.';\n",
              "          element.innerHTML = '';\n",
              "          dataTable['output_type'] = 'display_data';\n",
              "          await google.colab.output.renderOutput(dataTable, element);\n",
              "          const docLink = document.createElement('div');\n",
              "          docLink.innerHTML = docLinkHtml;\n",
              "          element.appendChild(docLink);\n",
              "        }\n",
              "      </script>\n",
              "    </div>\n",
              "  </div>\n",
              "  "
            ]
          },
          "metadata": {},
          "execution_count": 23
        }
      ]
    },
    {
      "cell_type": "markdown",
      "source": [
        "The copyOneYearDF['combos'] dataframe column is then transformed into a matrix of token counts using the count.fit_transform() method and stored in count_matrix. This matrix is then used to compute the cosine similarity between pairs of rows in the matrix using the cosine_similarity() method from sklearn.metrics.pairwise. The resulting matrix of cosine similarities is stored in the cosine_sim variable."
      ],
      "metadata": {
        "id": "S1FrqiU8cC4H"
      }
    },
    {
      "cell_type": "code",
      "source": [
        "#Use the combo and convert to vector\n",
        "from sklearn.feature_extraction.text import CountVectorizer\n",
        "count = CountVectorizer(stop_words='english')\n",
        "\n",
        "# df1['soup']\n",
        "count_matrix = count.fit_transform(copyOneYearDF['combos'])\n",
        "\n",
        "#Cosine similarity computation\n",
        "from sklearn.metrics.pairwise import cosine_similarity\n",
        "cosine_sim = cosine_similarity(count_matrix)"
      ],
      "metadata": {
        "id": "1_vyrqy6l2Wa"
      },
      "execution_count": null,
      "outputs": []
    },
    {
      "cell_type": "markdown",
      "source": [
        "This code defines a function get_index_from that takes in a ticker and returns the index value of the corresponding row in the copyOneYearDF dataframe. It then applies the function to the first ticker in userTickers and stores the index value in ticker_index. Finally, it prints the value of ticker_index."
      ],
      "metadata": {
        "id": "Ft30ZxrTcJoz"
      }
    },
    {
      "cell_type": "code",
      "source": [
        "#Look up indices of user Input\n",
        "def get_index_from(ticker):\n",
        "    return copyOneYearDF[copyOneYearDF['TickerName']== ticker].index.values[0]\n",
        "\n",
        "ticker_index = get_index_from(userTickers[0])\n",
        "print(ticker_index)\n"
      ],
      "metadata": {
        "colab": {
          "base_uri": "https://localhost:8080/"
        },
        "id": "X5g07co_rYnQ",
        "outputId": "fe126f45-635c-4339-9cf9-4a0e478fa49e"
      },
      "execution_count": null,
      "outputs": [
        {
          "output_type": "stream",
          "name": "stdout",
          "text": [
            "321\n"
          ]
        }
      ]
    },
    {
      "cell_type": "markdown",
      "source": [
        "This code generates a list of similar stocks to the user input based on cosine similarity calculation. It first defines a list of similar stocks using the enumerate function on the cosine similarity values of the user input ticker. The list is then sorted in descending order based on the similarity values using the sorted function with a lambda function as the key. Finally, the sorted list is printed to the console.\n",
        "\n",
        "\n",
        "\n",
        "\n"
      ],
      "metadata": {
        "id": "M9FPKqSncSpf"
      }
    },
    {
      "cell_type": "code",
      "source": [
        "#Generate similar list\n",
        "similar_stocks = list(enumerate(cosine_sim[ticker_index]))\n",
        "\n",
        "#sort the results\n",
        "sorted_similar_stocks = sorted(similar_stocks, key=lambda x:x[1], reverse=True)\n",
        "print(sorted_similar_stocks)"
      ],
      "metadata": {
        "colab": {
          "base_uri": "https://localhost:8080/"
        },
        "id": "fLPN8lz6skRL",
        "outputId": "55d7c8af-0ead-42c8-bb27-0b295bd0f632"
      },
      "execution_count": null,
      "outputs": [
        {
          "output_type": "stream",
          "name": "stdout",
          "text": [
            "[(36, 0.9999999999999998), (54, 0.9999999999999998), (58, 0.9999999999999998), (169, 0.9999999999999998), (215, 0.9999999999999998), (252, 0.9999999999999998), (276, 0.9999999999999998), (321, 0.9999999999999998), (389, 0.9999999999999998), (5, 0.816496580927726), (13, 0.816496580927726), (26, 0.816496580927726), (30, 0.816496580927726), (33, 0.816496580927726), (35, 0.816496580927726), (43, 0.816496580927726), (57, 0.816496580927726), (69, 0.816496580927726), (72, 0.816496580927726), (74, 0.816496580927726), (84, 0.816496580927726), (95, 0.816496580927726), (100, 0.816496580927726), (109, 0.816496580927726), (113, 0.816496580927726), (118, 0.816496580927726), (125, 0.816496580927726), (136, 0.816496580927726), (142, 0.816496580927726), (144, 0.816496580927726), (155, 0.816496580927726), (163, 0.816496580927726), (164, 0.816496580927726), (165, 0.816496580927726), (170, 0.816496580927726), (182, 0.816496580927726), (197, 0.816496580927726), (206, 0.816496580927726), (211, 0.816496580927726), (212, 0.816496580927726), (217, 0.816496580927726), (218, 0.816496580927726), (220, 0.816496580927726), (226, 0.816496580927726), (246, 0.816496580927726), (260, 0.816496580927726), (273, 0.816496580927726), (278, 0.816496580927726), (281, 0.816496580927726), (282, 0.816496580927726), (285, 0.816496580927726), (287, 0.816496580927726), (289, 0.816496580927726), (290, 0.816496580927726), (301, 0.816496580927726), (306, 0.816496580927726), (311, 0.816496580927726), (313, 0.816496580927726), (327, 0.816496580927726), (328, 0.816496580927726), (334, 0.816496580927726), (335, 0.816496580927726), (337, 0.816496580927726), (341, 0.816496580927726), (343, 0.816496580927726), (347, 0.816496580927726), (350, 0.816496580927726), (355, 0.816496580927726), (357, 0.816496580927726), (361, 0.816496580927726), (368, 0.816496580927726), (375, 0.816496580927726), (390, 0.816496580927726), (398, 0.816496580927726), (9, 0.7071067811865475), (14, 0.7071067811865475), (16, 0.7071067811865475), (20, 0.7071067811865475), (24, 0.7071067811865475), (25, 0.7071067811865475), (28, 0.7071067811865475), (31, 0.7071067811865475), (32, 0.7071067811865475), (38, 0.7071067811865475), (39, 0.7071067811865475), (42, 0.7071067811865475), (45, 0.7071067811865475), (46, 0.7071067811865475), (49, 0.7071067811865475), (60, 0.7071067811865475), (62, 0.7071067811865475), (63, 0.7071067811865475), (65, 0.7071067811865475), (68, 0.7071067811865475), (70, 0.7071067811865475), (71, 0.7071067811865475), (76, 0.7071067811865475), (78, 0.7071067811865475), (90, 0.7071067811865475), (91, 0.7071067811865475), (92, 0.7071067811865475), (93, 0.7071067811865475), (94, 0.7071067811865475), (97, 0.7071067811865475), (101, 0.7071067811865475), (103, 0.7071067811865475), (104, 0.7071067811865475), (108, 0.7071067811865475), (110, 0.7071067811865475), (111, 0.7071067811865475), (112, 0.7071067811865475), (120, 0.7071067811865475), (122, 0.7071067811865475), (124, 0.7071067811865475), (127, 0.7071067811865475), (129, 0.7071067811865475), (132, 0.7071067811865475), (149, 0.7071067811865475), (150, 0.7071067811865475), (172, 0.7071067811865475), (176, 0.7071067811865475), (177, 0.7071067811865475), (183, 0.7071067811865475), (184, 0.7071067811865475), (187, 0.7071067811865475), (191, 0.7071067811865475), (207, 0.7071067811865475), (209, 0.7071067811865475), (224, 0.7071067811865475), (229, 0.7071067811865475), (230, 0.7071067811865475), (232, 0.7071067811865475), (234, 0.7071067811865475), (235, 0.7071067811865475), (236, 0.7071067811865475), (243, 0.7071067811865475), (253, 0.7071067811865475), (259, 0.7071067811865475), (262, 0.7071067811865475), (283, 0.7071067811865475), (284, 0.7071067811865475), (291, 0.7071067811865475), (296, 0.7071067811865475), (305, 0.7071067811865475), (307, 0.7071067811865475), (317, 0.7071067811865475), (329, 0.7071067811865475), (330, 0.7071067811865475), (332, 0.7071067811865475), (333, 0.7071067811865475), (338, 0.7071067811865475), (344, 0.7071067811865475), (346, 0.7071067811865475), (352, 0.7071067811865475), (363, 0.7071067811865475), (364, 0.7071067811865475), (365, 0.7071067811865475), (370, 0.7071067811865475), (373, 0.7071067811865475), (377, 0.7071067811865475), (383, 0.7071067811865475), (394, 0.7071067811865475), (397, 0.7071067811865475), (407, 0.7071067811865475), (128, 0.4999999999999999), (133, 0.4999999999999999), (366, 0.4999999999999999), (400, 0.4999999999999999), (0, 0.408248290463863), (2, 0.408248290463863), (7, 0.408248290463863), (15, 0.408248290463863), (18, 0.408248290463863), (21, 0.408248290463863), (22, 0.408248290463863), (27, 0.408248290463863), (29, 0.408248290463863), (34, 0.408248290463863), (41, 0.408248290463863), (50, 0.408248290463863), (51, 0.408248290463863), (52, 0.408248290463863), (55, 0.408248290463863), (56, 0.408248290463863), (73, 0.408248290463863), (77, 0.408248290463863), (79, 0.408248290463863), (81, 0.408248290463863), (83, 0.408248290463863), (85, 0.408248290463863), (87, 0.408248290463863), (88, 0.408248290463863), (89, 0.408248290463863), (99, 0.408248290463863), (105, 0.408248290463863), (107, 0.408248290463863), (114, 0.408248290463863), (115, 0.408248290463863), (116, 0.408248290463863), (119, 0.408248290463863), (121, 0.408248290463863), (135, 0.408248290463863), (140, 0.408248290463863), (141, 0.408248290463863), (143, 0.408248290463863), (146, 0.408248290463863), (148, 0.408248290463863), (152, 0.408248290463863), (156, 0.408248290463863), (157, 0.408248290463863), (158, 0.408248290463863), (167, 0.408248290463863), (168, 0.408248290463863), (171, 0.408248290463863), (174, 0.408248290463863), (178, 0.408248290463863), (179, 0.408248290463863), (181, 0.408248290463863), (186, 0.408248290463863), (189, 0.408248290463863), (193, 0.408248290463863), (195, 0.408248290463863), (196, 0.408248290463863), (203, 0.408248290463863), (204, 0.408248290463863), (213, 0.408248290463863), (216, 0.408248290463863), (222, 0.408248290463863), (225, 0.408248290463863), (227, 0.408248290463863), (231, 0.408248290463863), (241, 0.408248290463863), (242, 0.408248290463863), (257, 0.408248290463863), (265, 0.408248290463863), (267, 0.408248290463863), (270, 0.408248290463863), (271, 0.408248290463863), (272, 0.408248290463863), (275, 0.408248290463863), (277, 0.408248290463863), (279, 0.408248290463863), (280, 0.408248290463863), (286, 0.408248290463863), (288, 0.408248290463863), (292, 0.408248290463863), (293, 0.408248290463863), (298, 0.408248290463863), (299, 0.408248290463863), (303, 0.408248290463863), (308, 0.408248290463863), (312, 0.408248290463863), (320, 0.408248290463863), (322, 0.408248290463863), (325, 0.408248290463863), (336, 0.408248290463863), (360, 0.408248290463863), (362, 0.408248290463863), (367, 0.408248290463863), (369, 0.408248290463863), (372, 0.408248290463863), (374, 0.408248290463863), (378, 0.408248290463863), (380, 0.408248290463863), (384, 0.408248290463863), (387, 0.408248290463863), (388, 0.408248290463863), (392, 0.408248290463863), (393, 0.408248290463863), (396, 0.408248290463863), (401, 0.408248290463863), (402, 0.408248290463863), (403, 0.408248290463863), (404, 0.408248290463863), (405, 0.408248290463863), (406, 0.408248290463863), (3, 0.35355339059327373), (6, 0.35355339059327373), (8, 0.35355339059327373), (11, 0.35355339059327373), (12, 0.35355339059327373), (17, 0.35355339059327373), (37, 0.35355339059327373), (40, 0.35355339059327373), (44, 0.35355339059327373), (48, 0.35355339059327373), (53, 0.35355339059327373), (61, 0.35355339059327373), (64, 0.35355339059327373), (66, 0.35355339059327373), (67, 0.35355339059327373), (75, 0.35355339059327373), (80, 0.35355339059327373), (96, 0.35355339059327373), (98, 0.35355339059327373), (106, 0.35355339059327373), (123, 0.35355339059327373), (126, 0.35355339059327373), (134, 0.35355339059327373), (137, 0.35355339059327373), (139, 0.35355339059327373), (145, 0.35355339059327373), (147, 0.35355339059327373), (151, 0.35355339059327373), (159, 0.35355339059327373), (160, 0.35355339059327373), (162, 0.35355339059327373), (166, 0.35355339059327373), (175, 0.35355339059327373), (180, 0.35355339059327373), (190, 0.35355339059327373), (194, 0.35355339059327373), (198, 0.35355339059327373), (202, 0.35355339059327373), (208, 0.35355339059327373), (210, 0.35355339059327373), (214, 0.35355339059327373), (221, 0.35355339059327373), (223, 0.35355339059327373), (233, 0.35355339059327373), (237, 0.35355339059327373), (238, 0.35355339059327373), (239, 0.35355339059327373), (245, 0.35355339059327373), (247, 0.35355339059327373), (248, 0.35355339059327373), (249, 0.35355339059327373), (250, 0.35355339059327373), (251, 0.35355339059327373), (255, 0.35355339059327373), (256, 0.35355339059327373), (266, 0.35355339059327373), (268, 0.35355339059327373), (269, 0.35355339059327373), (297, 0.35355339059327373), (300, 0.35355339059327373), (304, 0.35355339059327373), (309, 0.35355339059327373), (310, 0.35355339059327373), (314, 0.35355339059327373), (315, 0.35355339059327373), (318, 0.35355339059327373), (323, 0.35355339059327373), (331, 0.35355339059327373), (339, 0.35355339059327373), (340, 0.35355339059327373), (345, 0.35355339059327373), (348, 0.35355339059327373), (351, 0.35355339059327373), (353, 0.35355339059327373), (356, 0.35355339059327373), (358, 0.35355339059327373), (371, 0.35355339059327373), (376, 0.35355339059327373), (382, 0.35355339059327373), (386, 0.35355339059327373), (395, 0.35355339059327373), (399, 0.35355339059327373), (1, 0.0), (4, 0.0), (10, 0.0), (19, 0.0), (23, 0.0), (47, 0.0), (59, 0.0), (82, 0.0), (86, 0.0), (102, 0.0), (117, 0.0), (130, 0.0), (131, 0.0), (138, 0.0), (153, 0.0), (154, 0.0), (161, 0.0), (173, 0.0), (185, 0.0), (188, 0.0), (192, 0.0), (199, 0.0), (200, 0.0), (201, 0.0), (205, 0.0), (219, 0.0), (228, 0.0), (240, 0.0), (244, 0.0), (254, 0.0), (258, 0.0), (261, 0.0), (263, 0.0), (264, 0.0), (274, 0.0), (294, 0.0), (295, 0.0), (302, 0.0), (316, 0.0), (319, 0.0), (324, 0.0), (326, 0.0), (342, 0.0), (349, 0.0), (354, 0.0), (359, 0.0), (379, 0.0), (381, 0.0), (385, 0.0), (391, 0.0)]\n"
          ]
        }
      ]
    },
    {
      "cell_type": "markdown",
      "source": [
        "Here two functions are definted to help with generating a list of similar stocks based on the user's input. The first function stock_title(index) takes an index as input, looks up the stock name with that index in copyOneYearDF, and returns the name. The second function print_stocks(sorted_similar_stocks) takes the sorted list of similar stocks generated earlier as input and prints the top 5 most similar stocks, excluding the user's input stock. If the list has fewer than 5 similar stocks, it only prints the ones available."
      ],
      "metadata": {
        "id": "5vPxDDx1clQF"
      }
    },
    {
      "cell_type": "code",
      "source": [
        "#Turn indices to stock names\n",
        "def stock_title(index):\n",
        "  return copyOneYearDF[copyOneYearDF.index == index]['TickerName'].values[0]\n",
        "\n",
        "def print_stocks(sorted_similar_stocks):\n",
        "  i=0\n",
        "  for tkr in sorted_similar_stocks:\n",
        "    if(stock_title(tkr[0]) != userTickers[0]):\n",
        "      print(stock_title(tkr[0]))\n",
        "    i=i+1\n",
        "    if i>5:\n",
        "        break"
      ],
      "metadata": {
        "id": "z9r9fu53uLQn"
      },
      "execution_count": null,
      "outputs": []
    },
    {
      "cell_type": "markdown",
      "source": [
        "Here we run the recommendation system for all user-inputed tickers. For each ticker, it retrieves the index of the ticker from the dataframe, computes the similarity scores between all tickers using cosine similarity and returns a list of tuples with the index of each ticker and its similarity score with the selected ticker. The list is sorted in descending order based on the similarity score. Then, the function print_stocks() is called to print out the top five recommended tickers (excluding the selected ticker) for the current ticker. The process is repeated for all user-selected tickers, and the results are separated by a line of underscores.\n",
        "\n",
        "\n",
        "\n",
        "\n"
      ],
      "metadata": {
        "id": "L8GkNzDucwZ0"
      }
    },
    {
      "cell_type": "code",
      "source": [
        "#Repeat process for all User Selected Tickers\n",
        "for ticker in userTickers:\n",
        "  ticker_index = get_index_from(ticker)\n",
        "  similar_stocks = list(enumerate(cosine_sim[ticker_index]))\n",
        "  #sort the results\n",
        "  sorted_similar_stocks = sorted(similar_stocks, key=lambda x:x[1], reverse=True)\n",
        "  #call the print function\n",
        "  print_stocks(sorted_similar_stocks)\n",
        "  print(\"_________________________\")\n",
        "\n"
      ],
      "metadata": {
        "colab": {
          "base_uri": "https://localhost:8080/"
        },
        "id": "TR27WzIpIFcR",
        "outputId": "c6750cd8-a7be-48a4-f563-aa4db41930de"
      },
      "execution_count": null,
      "outputs": [
        {
          "output_type": "stream",
          "name": "stdout",
          "text": [
            "NVRO\n",
            "WYNN\n",
            "NTRA\n",
            "NOW\n",
            "LVS\n",
            "VMC\n",
            "_________________________\n",
            "FIS\n",
            "JPM\n",
            "JBHT\n",
            "BXP\n",
            "AMZN\n",
            "SRG\n",
            "_________________________\n",
            "GOOG\n",
            "PKI\n",
            "HLT\n",
            "SIVB\n",
            "NVRO\n",
            "WYNN\n",
            "_________________________\n"
          ]
        }
      ]
    },
    {
      "cell_type": "markdown",
      "source": [
        "# Statistical Methods and Machine Learning Algorithms\n",
        "In our project, we used a content-based filtering approach to recommend stocks to users. To achieve this, we utilized statistical methods such as CountVectorizer and machine learning algorithms such as cosine similarity. CountVectorizer was used to convert the textual data of the stocks into a numerical representation that can be easily processed by the algorithm. Cosine similarity was then applied to measure the similarity between the stocks based on their content. By comparing the similarity scores, the algorithm could identify and recommend the most similar stocks to the user. The algorithm returned the angles of similarity based on the two vectors and we sorted them in descending order. These methods were effective in providing personalized stock recommendations that matched the users' preferences and investment objectives.\n"
      ],
      "metadata": {
        "id": "f-wgygGlN4En"
      }
    },
    {
      "cell_type": "markdown",
      "source": [
        "# Other Potential Models\n",
        "During the development of our project, we considered various other models before finalizing our approach. One of the models we evaluated was TF-IDF, which is a popular statistical technique used in text processing. However, we did not proceed with TF-IDF because our dataset did not have the appropriate term frequency format required for this method to work effectively. We also evaluated a linear approach with direct comparison of filtering methods. However, this approach did not account for the nuances and complexities of the dataset, and we found that it did not provide accurate recommendations. After thorough experimentation and evaluation, we determined that our chosen content-based filtering approach was the most effective and accurate for our dataset and use case.\n"
      ],
      "metadata": {
        "id": "rW9Ip-KyOEl6"
      }
    },
    {
      "cell_type": "markdown",
      "source": [
        "# Validation\n",
        "Our approach to validating the models involved a combination of quantitative and qualitative methods. In addition to the standard model evaluation techniques such as cross-validation and performance metrics, we conducted a manual check of the predicted trends using industry data sites. This involved comparing the predicted trends with the actual trends observed in the market and analyzing the reasons for any discrepancies. This manual validation helped us to confirm the accuracy of our models and identify any areas where they may need improvement. By combining both quantitative and qualitative methods, we were able to ensure the reliability of our models and make informed decisions based on their predictions."
      ],
      "metadata": {
        "id": "4RlFIrcvNxON"
      }
    },
    {
      "cell_type": "markdown",
      "source": [
        "# Business Applications\n",
        "The model we have developed has several potential business applications. Firstly, it could be used by personal investment firms and financial advisors to provide personalized stock recommendations to their clients based on their investment objectives and risk tolerance. This could lead to better investment decisions and improved returns for clients. Secondly, the model could be used by individual investors to help them identify and evaluate potential investments based on their preferences and interests. Finally, the model could also be used to gain insights into investor sentiment. Overall, the model has a wide range of potential business applications.\n"
      ],
      "metadata": {
        "id": "SKUkslACOKCz"
      }
    },
    {
      "cell_type": "markdown",
      "source": [
        "# Possible Extension of System\n",
        "The work done in this project can be easily replicated to perform recommendations for data outside of the S&P 500. Furthermore, the project can be extended to build dataframes corresponding 3 year, 5 year and 10 year stock trend data with the averages and percent change information. This can help in recommending stocks to users based on their investment strategy (short term/long term)."
      ],
      "metadata": {
        "id": "VHG8YsZ5_Ryv"
      }
    }
  ]
}